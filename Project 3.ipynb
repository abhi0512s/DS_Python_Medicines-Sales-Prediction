{
 "cells": [
  {
   "cell_type": "code",
   "execution_count": 1,
   "metadata": {},
   "outputs": [],
   "source": [
    "import warnings\n",
    "warnings.filterwarnings('ignore')\n",
    "import pandas as pd\n",
    "import numpy as np\n",
    "import math"
   ]
  },
  {
   "cell_type": "code",
   "execution_count": 2,
   "metadata": {},
   "outputs": [],
   "source": [
    "dt_train=r'D:/AI & Data Science/Python/Project 3/counterfeit_train.csv'\n",
    "dt_test=r'D:/AI & Data Science/Python/Project 3/counterfeit_test.csv'\n",
    "cd_train=pd.read_csv(dt_train)\n",
    "cd_test=pd.read_csv(dt_test)"
   ]
  },
  {
   "cell_type": "code",
   "execution_count": 3,
   "metadata": {},
   "outputs": [
    {
     "data": {
      "text/html": [
       "<div>\n",
       "<style scoped>\n",
       "    .dataframe tbody tr th:only-of-type {\n",
       "        vertical-align: middle;\n",
       "    }\n",
       "\n",
       "    .dataframe tbody tr th {\n",
       "        vertical-align: top;\n",
       "    }\n",
       "\n",
       "    .dataframe thead th {\n",
       "        text-align: right;\n",
       "    }\n",
       "</style>\n",
       "<table border=\"1\" class=\"dataframe\">\n",
       "  <thead>\n",
       "    <tr style=\"text-align: right;\">\n",
       "      <th></th>\n",
       "      <th>Medicine_ID</th>\n",
       "      <th>Counterfeit_Weight</th>\n",
       "      <th>DistArea_ID</th>\n",
       "      <th>Active_Since</th>\n",
       "      <th>Medicine_MRP</th>\n",
       "      <th>Medicine_Type</th>\n",
       "      <th>SidEffect_Level</th>\n",
       "      <th>Availability_rating</th>\n",
       "      <th>Area_Type</th>\n",
       "      <th>Area_City_Type</th>\n",
       "      <th>Area_dist_level</th>\n",
       "      <th>Counterfeit_Sales</th>\n",
       "    </tr>\n",
       "  </thead>\n",
       "  <tbody>\n",
       "    <tr>\n",
       "      <th>0</th>\n",
       "      <td>RRA15</td>\n",
       "      <td>13.100</td>\n",
       "      <td>Area046</td>\n",
       "      <td>1995</td>\n",
       "      <td>160.2366</td>\n",
       "      <td>Antimalarial</td>\n",
       "      <td>critical</td>\n",
       "      <td>0.070422</td>\n",
       "      <td>DownTown</td>\n",
       "      <td>Tier 1</td>\n",
       "      <td>Small</td>\n",
       "      <td>1775.5026</td>\n",
       "    </tr>\n",
       "    <tr>\n",
       "      <th>1</th>\n",
       "      <td>YVV26</td>\n",
       "      <td>NaN</td>\n",
       "      <td>Area027</td>\n",
       "      <td>1983</td>\n",
       "      <td>110.4384</td>\n",
       "      <td>Mstablizers</td>\n",
       "      <td>mild</td>\n",
       "      <td>0.013000</td>\n",
       "      <td>CityLimits</td>\n",
       "      <td>Tier 3</td>\n",
       "      <td>Medium</td>\n",
       "      <td>3069.1520</td>\n",
       "    </tr>\n",
       "    <tr>\n",
       "      <th>2</th>\n",
       "      <td>LJC15</td>\n",
       "      <td>9.025</td>\n",
       "      <td>Area046</td>\n",
       "      <td>1995</td>\n",
       "      <td>259.4092</td>\n",
       "      <td>Cardiac</td>\n",
       "      <td>mild</td>\n",
       "      <td>0.060783</td>\n",
       "      <td>DownTown</td>\n",
       "      <td>Tier 1</td>\n",
       "      <td>Small</td>\n",
       "      <td>2603.0920</td>\n",
       "    </tr>\n",
       "    <tr>\n",
       "      <th>3</th>\n",
       "      <td>GWC40</td>\n",
       "      <td>11.800</td>\n",
       "      <td>Area046</td>\n",
       "      <td>1995</td>\n",
       "      <td>99.9830</td>\n",
       "      <td>OralContraceptives</td>\n",
       "      <td>mild</td>\n",
       "      <td>0.065555</td>\n",
       "      <td>DownTown</td>\n",
       "      <td>Tier 1</td>\n",
       "      <td>Small</td>\n",
       "      <td>1101.7130</td>\n",
       "    </tr>\n",
       "    <tr>\n",
       "      <th>4</th>\n",
       "      <td>QMN13</td>\n",
       "      <td>NaN</td>\n",
       "      <td>Area019</td>\n",
       "      <td>1983</td>\n",
       "      <td>56.4402</td>\n",
       "      <td>Hreplacements</td>\n",
       "      <td>critical</td>\n",
       "      <td>0.248859</td>\n",
       "      <td>MidTownResidential</td>\n",
       "      <td>Tier 1</td>\n",
       "      <td>Small</td>\n",
       "      <td>158.9402</td>\n",
       "    </tr>\n",
       "  </tbody>\n",
       "</table>\n",
       "</div>"
      ],
      "text/plain": [
       "  Medicine_ID  Counterfeit_Weight DistArea_ID  Active_Since  Medicine_MRP  \\\n",
       "0       RRA15              13.100     Area046          1995      160.2366   \n",
       "1       YVV26                 NaN     Area027          1983      110.4384   \n",
       "2       LJC15               9.025     Area046          1995      259.4092   \n",
       "3       GWC40              11.800     Area046          1995       99.9830   \n",
       "4       QMN13                 NaN     Area019          1983       56.4402   \n",
       "\n",
       "        Medicine_Type SidEffect_Level  Availability_rating  \\\n",
       "0        Antimalarial        critical             0.070422   \n",
       "1         Mstablizers            mild             0.013000   \n",
       "2             Cardiac            mild             0.060783   \n",
       "3  OralContraceptives            mild             0.065555   \n",
       "4       Hreplacements        critical             0.248859   \n",
       "\n",
       "            Area_Type Area_City_Type Area_dist_level  Counterfeit_Sales  \n",
       "0            DownTown         Tier 1           Small          1775.5026  \n",
       "1          CityLimits         Tier 3          Medium          3069.1520  \n",
       "2            DownTown         Tier 1           Small          2603.0920  \n",
       "3            DownTown         Tier 1           Small          1101.7130  \n",
       "4  MidTownResidential         Tier 1           Small           158.9402  "
      ]
     },
     "execution_count": 3,
     "metadata": {},
     "output_type": "execute_result"
    }
   ],
   "source": [
    "cd_train.head()"
   ]
  },
  {
   "cell_type": "code",
   "execution_count": 4,
   "metadata": {},
   "outputs": [
    {
     "data": {
      "text/plain": [
       "Medicine_ID             object\n",
       "Counterfeit_Weight     float64\n",
       "DistArea_ID             object\n",
       "Active_Since             int64\n",
       "Medicine_MRP           float64\n",
       "Medicine_Type           object\n",
       "SidEffect_Level         object\n",
       "Availability_rating    float64\n",
       "Area_Type               object\n",
       "Area_City_Type          object\n",
       "Area_dist_level         object\n",
       "Counterfeit_Sales      float64\n",
       "dtype: object"
      ]
     },
     "execution_count": 4,
     "metadata": {},
     "output_type": "execute_result"
    }
   ],
   "source": [
    "cd_train.dtypes"
   ]
  },
  {
   "cell_type": "code",
   "execution_count": 5,
   "metadata": {},
   "outputs": [
    {
     "data": {
      "text/plain": [
       "(6818, 12)"
      ]
     },
     "execution_count": 5,
     "metadata": {},
     "output_type": "execute_result"
    }
   ],
   "source": [
    "cd_train.shape"
   ]
  },
  {
   "cell_type": "code",
   "execution_count": 6,
   "metadata": {},
   "outputs": [
    {
     "data": {
      "text/plain": [
       "(1705, 11)"
      ]
     },
     "execution_count": 6,
     "metadata": {},
     "output_type": "execute_result"
    }
   ],
   "source": [
    "cd_test.shape"
   ]
  },
  {
   "cell_type": "code",
   "execution_count": 7,
   "metadata": {},
   "outputs": [
    {
     "data": {
      "text/plain": [
       "Medicine_ID               0\n",
       "Counterfeit_Weight     1166\n",
       "DistArea_ID               0\n",
       "Active_Since              0\n",
       "Medicine_MRP              0\n",
       "Medicine_Type             0\n",
       "SidEffect_Level           0\n",
       "Availability_rating       0\n",
       "Area_Type                 0\n",
       "Area_City_Type            0\n",
       "Area_dist_level           0\n",
       "Counterfeit_Sales         0\n",
       "dtype: int64"
      ]
     },
     "execution_count": 7,
     "metadata": {},
     "output_type": "execute_result"
    }
   ],
   "source": [
    "cd_train.isnull().sum()"
   ]
  },
  {
   "cell_type": "code",
   "execution_count": 8,
   "metadata": {},
   "outputs": [
    {
     "data": {
      "text/plain": [
       "1557"
      ]
     },
     "execution_count": 8,
     "metadata": {},
     "output_type": "execute_result"
    }
   ],
   "source": [
    "cd_train['Medicine_ID'].nunique() #drop"
   ]
  },
  {
   "cell_type": "code",
   "execution_count": 9,
   "metadata": {},
   "outputs": [
    {
     "data": {
      "text/plain": [
       "414"
      ]
     },
     "execution_count": 9,
     "metadata": {},
     "output_type": "execute_result"
    }
   ],
   "source": [
    "cd_train['Counterfeit_Weight'].nunique()"
   ]
  },
  {
   "cell_type": "code",
   "execution_count": 10,
   "metadata": {},
   "outputs": [
    {
     "data": {
      "text/plain": [
       "1166"
      ]
     },
     "execution_count": 10,
     "metadata": {},
     "output_type": "execute_result"
    }
   ],
   "source": [
    "cd_train['Counterfeit_Weight'].isnull().sum() #replace with mean"
   ]
  },
  {
   "cell_type": "code",
   "execution_count": 11,
   "metadata": {},
   "outputs": [
    {
     "data": {
      "text/plain": [
       "10"
      ]
     },
     "execution_count": 11,
     "metadata": {},
     "output_type": "execute_result"
    }
   ],
   "source": [
    "cd_train['DistArea_ID'].nunique() #dummy variable-9"
   ]
  },
  {
   "cell_type": "code",
   "execution_count": 12,
   "metadata": {},
   "outputs": [
    {
     "data": {
      "text/plain": [
       "Area017    760\n",
       "Area046    749\n",
       "Area013    749\n",
       "Area035    748\n",
       "Area049    739\n",
       "Area045    736\n",
       "Area027    735\n",
       "Area018    729\n",
       "Area010    442\n",
       "Area019    431\n",
       "Name: DistArea_ID, dtype: int64"
      ]
     },
     "execution_count": 12,
     "metadata": {},
     "output_type": "execute_result"
    }
   ],
   "source": [
    "cd_train['DistArea_ID'].value_counts()"
   ]
  },
  {
   "cell_type": "code",
   "execution_count": 13,
   "metadata": {},
   "outputs": [
    {
     "data": {
      "text/plain": [
       "9"
      ]
     },
     "execution_count": 13,
     "metadata": {},
     "output_type": "execute_result"
    }
   ],
   "source": [
    "cd_train['Active_Since'].nunique() #dummy variable-8"
   ]
  },
  {
   "cell_type": "code",
   "execution_count": 14,
   "metadata": {},
   "outputs": [
    {
     "data": {
      "text/plain": [
       "1983    1166\n",
       "2005     760\n",
       "1995     749\n",
       "1985     749\n",
       "2002     748\n",
       "1997     739\n",
       "2000     736\n",
       "2007     729\n",
       "1996     442\n",
       "Name: Active_Since, dtype: int64"
      ]
     },
     "execution_count": 14,
     "metadata": {},
     "output_type": "execute_result"
    }
   ],
   "source": [
    "cd_train['Active_Since'].value_counts()"
   ]
  },
  {
   "cell_type": "code",
   "execution_count": 15,
   "metadata": {},
   "outputs": [
    {
     "data": {
      "text/plain": [
       "5097"
      ]
     },
     "execution_count": 15,
     "metadata": {},
     "output_type": "execute_result"
    }
   ],
   "source": [
    "cd_train['Medicine_MRP'].nunique() #as it is"
   ]
  },
  {
   "cell_type": "code",
   "execution_count": 16,
   "metadata": {},
   "outputs": [
    {
     "data": {
      "text/plain": [
       "16"
      ]
     },
     "execution_count": 16,
     "metadata": {},
     "output_type": "execute_result"
    }
   ],
   "source": [
    "cd_train['Medicine_Type'].nunique() #dummy variable"
   ]
  },
  {
   "cell_type": "code",
   "execution_count": 17,
   "metadata": {},
   "outputs": [
    {
     "data": {
      "text/plain": [
       "Hreplacements         976\n",
       "Antibiotics           970\n",
       "Antiseptics           724\n",
       "OralContraceptives    694\n",
       "Antipyretics          536\n",
       "Cardiac               522\n",
       "Mstablizers           514\n",
       "Tranquilizers         420\n",
       "Analgesics            356\n",
       "Antimalarial          339\n",
       "Antacids              206\n",
       "Statins               167\n",
       "MuscleRelaxants       139\n",
       "Antifungal            111\n",
       "Stimulants             95\n",
       "Antiviral              49\n",
       "Name: Medicine_Type, dtype: int64"
      ]
     },
     "execution_count": 17,
     "metadata": {},
     "output_type": "execute_result"
    }
   ],
   "source": [
    "cd_train['Medicine_Type'].value_counts()"
   ]
  },
  {
   "cell_type": "code",
   "execution_count": 18,
   "metadata": {},
   "outputs": [
    {
     "data": {
      "text/plain": [
       "2"
      ]
     },
     "execution_count": 18,
     "metadata": {},
     "output_type": "execute_result"
    }
   ],
   "source": [
    "cd_train['SidEffect_Level'].nunique() #dummy or boolean"
   ]
  },
  {
   "cell_type": "code",
   "execution_count": 19,
   "metadata": {},
   "outputs": [
    {
     "data": {
      "text/plain": [
       "mild        4434\n",
       "critical    2384\n",
       "Name: SidEffect_Level, dtype: int64"
      ]
     },
     "execution_count": 19,
     "metadata": {},
     "output_type": "execute_result"
    }
   ],
   "source": [
    "cd_train['SidEffect_Level'].value_counts()"
   ]
  },
  {
   "cell_type": "code",
   "execution_count": 20,
   "metadata": {},
   "outputs": [
    {
     "data": {
      "text/plain": [
       "6317"
      ]
     },
     "execution_count": 20,
     "metadata": {},
     "output_type": "execute_result"
    }
   ],
   "source": [
    "cd_train['Availability_rating'].nunique() #as it is"
   ]
  },
  {
   "cell_type": "code",
   "execution_count": 21,
   "metadata": {},
   "outputs": [
    {
     "data": {
      "text/plain": [
       "4"
      ]
     },
     "execution_count": 21,
     "metadata": {},
     "output_type": "execute_result"
    }
   ],
   "source": [
    "cd_train['Area_Type'].nunique() #dummy variable"
   ]
  },
  {
   "cell_type": "code",
   "execution_count": 22,
   "metadata": {},
   "outputs": [
    {
     "data": {
      "text/plain": [
       "DownTown              4481\n",
       "MidTownResidential     873\n",
       "CityLimits             735\n",
       "Industrial             729\n",
       "Name: Area_Type, dtype: int64"
      ]
     },
     "execution_count": 22,
     "metadata": {},
     "output_type": "execute_result"
    }
   ],
   "source": [
    "cd_train['Area_Type'].value_counts()"
   ]
  },
  {
   "cell_type": "code",
   "execution_count": 23,
   "metadata": {},
   "outputs": [
    {
     "data": {
      "text/plain": [
       "3"
      ]
     },
     "execution_count": 23,
     "metadata": {},
     "output_type": "execute_result"
    }
   ],
   "source": [
    "cd_train['Area_City_Type'].nunique() #dummy variable"
   ]
  },
  {
   "cell_type": "code",
   "execution_count": 24,
   "metadata": {},
   "outputs": [
    {
     "data": {
      "text/plain": [
       "Tier 3    2655\n",
       "Tier 2    2244\n",
       "Tier 1    1919\n",
       "Name: Area_City_Type, dtype: int64"
      ]
     },
     "execution_count": 24,
     "metadata": {},
     "output_type": "execute_result"
    }
   ],
   "source": [
    "cd_train['Area_City_Type'].value_counts()"
   ]
  },
  {
   "cell_type": "code",
   "execution_count": 25,
   "metadata": {},
   "outputs": [
    {
     "data": {
      "text/plain": [
       "4"
      ]
     },
     "execution_count": 25,
     "metadata": {},
     "output_type": "execute_result"
    }
   ],
   "source": [
    "cd_train['Area_dist_level'].nunique() #dummy variable"
   ]
  },
  {
   "cell_type": "code",
   "execution_count": 26,
   "metadata": {},
   "outputs": [
    {
     "data": {
      "text/plain": [
       "Medium     2203\n",
       "Unknown    1938\n",
       "Small      1928\n",
       "High        749\n",
       "Name: Area_dist_level, dtype: int64"
      ]
     },
     "execution_count": 26,
     "metadata": {},
     "output_type": "execute_result"
    }
   ],
   "source": [
    "cd_train['Area_dist_level'].value_counts()"
   ]
  },
  {
   "cell_type": "code",
   "execution_count": 27,
   "metadata": {},
   "outputs": [
    {
     "data": {
      "text/plain": [
       "Medicine_ID              0\n",
       "Counterfeit_Weight     297\n",
       "DistArea_ID              0\n",
       "Active_Since             0\n",
       "Medicine_MRP             0\n",
       "Medicine_Type            0\n",
       "SidEffect_Level          0\n",
       "Availability_rating      0\n",
       "Area_Type                0\n",
       "Area_City_Type           0\n",
       "Area_dist_level          0\n",
       "dtype: int64"
      ]
     },
     "execution_count": 27,
     "metadata": {},
     "output_type": "execute_result"
    }
   ],
   "source": [
    "cd_test.isnull().sum()"
   ]
  },
  {
   "cell_type": "code",
   "execution_count": 3,
   "metadata": {},
   "outputs": [],
   "source": [
    "for col in ['Medicine_ID']:\n",
    "    cd_train.drop([col],1,inplace=True)\n",
    "    cd_test.drop([col],1,inplace=True)"
   ]
  },
  {
   "cell_type": "code",
   "execution_count": 4,
   "metadata": {},
   "outputs": [],
   "source": [
    "cd_train['Counterfeit_Weight'].fillna(cd_train['Counterfeit_Weight'].mean(),inplace = True)\n",
    "cd_test['Counterfeit_Weight'].fillna(cd_test['Counterfeit_Weight'].mean(),inplace = True)"
   ]
  },
  {
   "cell_type": "code",
   "execution_count": 5,
   "metadata": {},
   "outputs": [],
   "source": [
    "cd_train['SidEffect_Level']=np.where(cd_train['SidEffect_Level']=='mild',1,0)\n",
    "cd_test['SidEffect_Level']=np.where(cd_test['SidEffect_Level']=='mild',1,0)"
   ]
  },
  {
   "cell_type": "code",
   "execution_count": 6,
   "metadata": {},
   "outputs": [],
   "source": [
    "DistArea_ID_dummies=pd.get_dummies(cd_train['DistArea_ID'],prefix=\"DistID\")"
   ]
  },
  {
   "cell_type": "code",
   "execution_count": 7,
   "metadata": {},
   "outputs": [
    {
     "data": {
      "text/html": [
       "<div>\n",
       "<style scoped>\n",
       "    .dataframe tbody tr th:only-of-type {\n",
       "        vertical-align: middle;\n",
       "    }\n",
       "\n",
       "    .dataframe tbody tr th {\n",
       "        vertical-align: top;\n",
       "    }\n",
       "\n",
       "    .dataframe thead th {\n",
       "        text-align: right;\n",
       "    }\n",
       "</style>\n",
       "<table border=\"1\" class=\"dataframe\">\n",
       "  <thead>\n",
       "    <tr style=\"text-align: right;\">\n",
       "      <th></th>\n",
       "      <th>DistID_Area010</th>\n",
       "      <th>DistID_Area013</th>\n",
       "      <th>DistID_Area017</th>\n",
       "      <th>DistID_Area018</th>\n",
       "      <th>DistID_Area019</th>\n",
       "      <th>DistID_Area027</th>\n",
       "      <th>DistID_Area035</th>\n",
       "      <th>DistID_Area045</th>\n",
       "      <th>DistID_Area046</th>\n",
       "      <th>DistID_Area049</th>\n",
       "    </tr>\n",
       "  </thead>\n",
       "  <tbody>\n",
       "    <tr>\n",
       "      <th>0</th>\n",
       "      <td>0</td>\n",
       "      <td>0</td>\n",
       "      <td>0</td>\n",
       "      <td>0</td>\n",
       "      <td>0</td>\n",
       "      <td>0</td>\n",
       "      <td>0</td>\n",
       "      <td>0</td>\n",
       "      <td>1</td>\n",
       "      <td>0</td>\n",
       "    </tr>\n",
       "    <tr>\n",
       "      <th>1</th>\n",
       "      <td>0</td>\n",
       "      <td>0</td>\n",
       "      <td>0</td>\n",
       "      <td>0</td>\n",
       "      <td>0</td>\n",
       "      <td>1</td>\n",
       "      <td>0</td>\n",
       "      <td>0</td>\n",
       "      <td>0</td>\n",
       "      <td>0</td>\n",
       "    </tr>\n",
       "    <tr>\n",
       "      <th>2</th>\n",
       "      <td>0</td>\n",
       "      <td>0</td>\n",
       "      <td>0</td>\n",
       "      <td>0</td>\n",
       "      <td>0</td>\n",
       "      <td>0</td>\n",
       "      <td>0</td>\n",
       "      <td>0</td>\n",
       "      <td>1</td>\n",
       "      <td>0</td>\n",
       "    </tr>\n",
       "    <tr>\n",
       "      <th>3</th>\n",
       "      <td>0</td>\n",
       "      <td>0</td>\n",
       "      <td>0</td>\n",
       "      <td>0</td>\n",
       "      <td>0</td>\n",
       "      <td>0</td>\n",
       "      <td>0</td>\n",
       "      <td>0</td>\n",
       "      <td>1</td>\n",
       "      <td>0</td>\n",
       "    </tr>\n",
       "    <tr>\n",
       "      <th>4</th>\n",
       "      <td>0</td>\n",
       "      <td>0</td>\n",
       "      <td>0</td>\n",
       "      <td>0</td>\n",
       "      <td>1</td>\n",
       "      <td>0</td>\n",
       "      <td>0</td>\n",
       "      <td>0</td>\n",
       "      <td>0</td>\n",
       "      <td>0</td>\n",
       "    </tr>\n",
       "  </tbody>\n",
       "</table>\n",
       "</div>"
      ],
      "text/plain": [
       "   DistID_Area010  DistID_Area013  DistID_Area017  DistID_Area018  \\\n",
       "0               0               0               0               0   \n",
       "1               0               0               0               0   \n",
       "2               0               0               0               0   \n",
       "3               0               0               0               0   \n",
       "4               0               0               0               0   \n",
       "\n",
       "   DistID_Area019  DistID_Area027  DistID_Area035  DistID_Area045  \\\n",
       "0               0               0               0               0   \n",
       "1               0               1               0               0   \n",
       "2               0               0               0               0   \n",
       "3               0               0               0               0   \n",
       "4               1               0               0               0   \n",
       "\n",
       "   DistID_Area046  DistID_Area049  \n",
       "0               1               0  \n",
       "1               0               0  \n",
       "2               1               0  \n",
       "3               1               0  \n",
       "4               0               0  "
      ]
     },
     "execution_count": 7,
     "metadata": {},
     "output_type": "execute_result"
    }
   ],
   "source": [
    "DistArea_ID_dummies.head()"
   ]
  },
  {
   "cell_type": "code",
   "execution_count": 8,
   "metadata": {},
   "outputs": [],
   "source": [
    "cd_train=pd.concat([cd_train,DistArea_ID_dummies],1)\n",
    "cd_train=cd_train.drop(['DistArea_ID','DistID_Area049'],1)"
   ]
  },
  {
   "cell_type": "code",
   "execution_count": 9,
   "metadata": {},
   "outputs": [],
   "source": [
    "DistArea_ID_dummies=pd.get_dummies(cd_test['DistArea_ID'],prefix=\"DistID\")\n",
    "cd_test=pd.concat([cd_test,DistArea_ID_dummies],1)\n",
    "cd_test=cd_test.drop(['DistArea_ID','DistID_Area049'],1)"
   ]
  },
  {
   "cell_type": "code",
   "execution_count": 10,
   "metadata": {},
   "outputs": [
    {
     "data": {
      "text/html": [
       "<div>\n",
       "<style scoped>\n",
       "    .dataframe tbody tr th:only-of-type {\n",
       "        vertical-align: middle;\n",
       "    }\n",
       "\n",
       "    .dataframe tbody tr th {\n",
       "        vertical-align: top;\n",
       "    }\n",
       "\n",
       "    .dataframe thead th {\n",
       "        text-align: right;\n",
       "    }\n",
       "</style>\n",
       "<table border=\"1\" class=\"dataframe\">\n",
       "  <thead>\n",
       "    <tr style=\"text-align: right;\">\n",
       "      <th></th>\n",
       "      <th>Active_Since_1983</th>\n",
       "      <th>Active_Since_1985</th>\n",
       "      <th>Active_Since_1995</th>\n",
       "      <th>Active_Since_1996</th>\n",
       "      <th>Active_Since_1997</th>\n",
       "      <th>Active_Since_2000</th>\n",
       "      <th>Active_Since_2002</th>\n",
       "      <th>Active_Since_2005</th>\n",
       "      <th>Active_Since_2007</th>\n",
       "    </tr>\n",
       "  </thead>\n",
       "  <tbody>\n",
       "    <tr>\n",
       "      <th>0</th>\n",
       "      <td>0</td>\n",
       "      <td>0</td>\n",
       "      <td>1</td>\n",
       "      <td>0</td>\n",
       "      <td>0</td>\n",
       "      <td>0</td>\n",
       "      <td>0</td>\n",
       "      <td>0</td>\n",
       "      <td>0</td>\n",
       "    </tr>\n",
       "    <tr>\n",
       "      <th>1</th>\n",
       "      <td>1</td>\n",
       "      <td>0</td>\n",
       "      <td>0</td>\n",
       "      <td>0</td>\n",
       "      <td>0</td>\n",
       "      <td>0</td>\n",
       "      <td>0</td>\n",
       "      <td>0</td>\n",
       "      <td>0</td>\n",
       "    </tr>\n",
       "    <tr>\n",
       "      <th>2</th>\n",
       "      <td>0</td>\n",
       "      <td>0</td>\n",
       "      <td>1</td>\n",
       "      <td>0</td>\n",
       "      <td>0</td>\n",
       "      <td>0</td>\n",
       "      <td>0</td>\n",
       "      <td>0</td>\n",
       "      <td>0</td>\n",
       "    </tr>\n",
       "    <tr>\n",
       "      <th>3</th>\n",
       "      <td>0</td>\n",
       "      <td>0</td>\n",
       "      <td>1</td>\n",
       "      <td>0</td>\n",
       "      <td>0</td>\n",
       "      <td>0</td>\n",
       "      <td>0</td>\n",
       "      <td>0</td>\n",
       "      <td>0</td>\n",
       "    </tr>\n",
       "    <tr>\n",
       "      <th>4</th>\n",
       "      <td>1</td>\n",
       "      <td>0</td>\n",
       "      <td>0</td>\n",
       "      <td>0</td>\n",
       "      <td>0</td>\n",
       "      <td>0</td>\n",
       "      <td>0</td>\n",
       "      <td>0</td>\n",
       "      <td>0</td>\n",
       "    </tr>\n",
       "  </tbody>\n",
       "</table>\n",
       "</div>"
      ],
      "text/plain": [
       "   Active_Since_1983  Active_Since_1985  Active_Since_1995  Active_Since_1996  \\\n",
       "0                  0                  0                  1                  0   \n",
       "1                  1                  0                  0                  0   \n",
       "2                  0                  0                  1                  0   \n",
       "3                  0                  0                  1                  0   \n",
       "4                  1                  0                  0                  0   \n",
       "\n",
       "   Active_Since_1997  Active_Since_2000  Active_Since_2002  Active_Since_2005  \\\n",
       "0                  0                  0                  0                  0   \n",
       "1                  0                  0                  0                  0   \n",
       "2                  0                  0                  0                  0   \n",
       "3                  0                  0                  0                  0   \n",
       "4                  0                  0                  0                  0   \n",
       "\n",
       "   Active_Since_2007  \n",
       "0                  0  \n",
       "1                  0  \n",
       "2                  0  \n",
       "3                  0  \n",
       "4                  0  "
      ]
     },
     "execution_count": 10,
     "metadata": {},
     "output_type": "execute_result"
    }
   ],
   "source": [
    "Active_Since_dummies=pd.get_dummies(cd_train['Active_Since'],prefix=\"Active_Since\")\n",
    "Active_Since_dummies.head()"
   ]
  },
  {
   "cell_type": "code",
   "execution_count": 11,
   "metadata": {},
   "outputs": [],
   "source": [
    "cd_train=pd.concat([cd_train,Active_Since_dummies],1)\n",
    "cd_train=cd_train.drop(['Active_Since','Active_Since_2007'],1)"
   ]
  },
  {
   "cell_type": "code",
   "execution_count": 12,
   "metadata": {},
   "outputs": [],
   "source": [
    "Active_Since_dummies=pd.get_dummies(cd_test['Active_Since'],prefix=\"Active_Since\")\n",
    "cd_test=pd.concat([cd_test,Active_Since_dummies],1)\n",
    "cd_test=cd_test.drop(['Active_Since','Active_Since_2007'],1)"
   ]
  },
  {
   "cell_type": "code",
   "execution_count": 13,
   "metadata": {},
   "outputs": [
    {
     "data": {
      "text/html": [
       "<div>\n",
       "<style scoped>\n",
       "    .dataframe tbody tr th:only-of-type {\n",
       "        vertical-align: middle;\n",
       "    }\n",
       "\n",
       "    .dataframe tbody tr th {\n",
       "        vertical-align: top;\n",
       "    }\n",
       "\n",
       "    .dataframe thead th {\n",
       "        text-align: right;\n",
       "    }\n",
       "</style>\n",
       "<table border=\"1\" class=\"dataframe\">\n",
       "  <thead>\n",
       "    <tr style=\"text-align: right;\">\n",
       "      <th></th>\n",
       "      <th>Medicine_Type_Analgesics</th>\n",
       "      <th>Medicine_Type_Antacids</th>\n",
       "      <th>Medicine_Type_Antibiotics</th>\n",
       "      <th>Medicine_Type_Antifungal</th>\n",
       "      <th>Medicine_Type_Antimalarial</th>\n",
       "      <th>Medicine_Type_Antipyretics</th>\n",
       "      <th>Medicine_Type_Antiseptics</th>\n",
       "      <th>Medicine_Type_Antiviral</th>\n",
       "      <th>Medicine_Type_Cardiac</th>\n",
       "      <th>Medicine_Type_Hreplacements</th>\n",
       "      <th>Medicine_Type_Mstablizers</th>\n",
       "      <th>Medicine_Type_MuscleRelaxants</th>\n",
       "      <th>Medicine_Type_OralContraceptives</th>\n",
       "      <th>Medicine_Type_Statins</th>\n",
       "      <th>Medicine_Type_Stimulants</th>\n",
       "      <th>Medicine_Type_Tranquilizers</th>\n",
       "    </tr>\n",
       "  </thead>\n",
       "  <tbody>\n",
       "    <tr>\n",
       "      <th>0</th>\n",
       "      <td>0</td>\n",
       "      <td>0</td>\n",
       "      <td>0</td>\n",
       "      <td>0</td>\n",
       "      <td>1</td>\n",
       "      <td>0</td>\n",
       "      <td>0</td>\n",
       "      <td>0</td>\n",
       "      <td>0</td>\n",
       "      <td>0</td>\n",
       "      <td>0</td>\n",
       "      <td>0</td>\n",
       "      <td>0</td>\n",
       "      <td>0</td>\n",
       "      <td>0</td>\n",
       "      <td>0</td>\n",
       "    </tr>\n",
       "    <tr>\n",
       "      <th>1</th>\n",
       "      <td>0</td>\n",
       "      <td>0</td>\n",
       "      <td>0</td>\n",
       "      <td>0</td>\n",
       "      <td>0</td>\n",
       "      <td>0</td>\n",
       "      <td>0</td>\n",
       "      <td>0</td>\n",
       "      <td>0</td>\n",
       "      <td>0</td>\n",
       "      <td>1</td>\n",
       "      <td>0</td>\n",
       "      <td>0</td>\n",
       "      <td>0</td>\n",
       "      <td>0</td>\n",
       "      <td>0</td>\n",
       "    </tr>\n",
       "    <tr>\n",
       "      <th>2</th>\n",
       "      <td>0</td>\n",
       "      <td>0</td>\n",
       "      <td>0</td>\n",
       "      <td>0</td>\n",
       "      <td>0</td>\n",
       "      <td>0</td>\n",
       "      <td>0</td>\n",
       "      <td>0</td>\n",
       "      <td>1</td>\n",
       "      <td>0</td>\n",
       "      <td>0</td>\n",
       "      <td>0</td>\n",
       "      <td>0</td>\n",
       "      <td>0</td>\n",
       "      <td>0</td>\n",
       "      <td>0</td>\n",
       "    </tr>\n",
       "    <tr>\n",
       "      <th>3</th>\n",
       "      <td>0</td>\n",
       "      <td>0</td>\n",
       "      <td>0</td>\n",
       "      <td>0</td>\n",
       "      <td>0</td>\n",
       "      <td>0</td>\n",
       "      <td>0</td>\n",
       "      <td>0</td>\n",
       "      <td>0</td>\n",
       "      <td>0</td>\n",
       "      <td>0</td>\n",
       "      <td>0</td>\n",
       "      <td>1</td>\n",
       "      <td>0</td>\n",
       "      <td>0</td>\n",
       "      <td>0</td>\n",
       "    </tr>\n",
       "    <tr>\n",
       "      <th>4</th>\n",
       "      <td>0</td>\n",
       "      <td>0</td>\n",
       "      <td>0</td>\n",
       "      <td>0</td>\n",
       "      <td>0</td>\n",
       "      <td>0</td>\n",
       "      <td>0</td>\n",
       "      <td>0</td>\n",
       "      <td>0</td>\n",
       "      <td>1</td>\n",
       "      <td>0</td>\n",
       "      <td>0</td>\n",
       "      <td>0</td>\n",
       "      <td>0</td>\n",
       "      <td>0</td>\n",
       "      <td>0</td>\n",
       "    </tr>\n",
       "  </tbody>\n",
       "</table>\n",
       "</div>"
      ],
      "text/plain": [
       "   Medicine_Type_Analgesics  Medicine_Type_Antacids  \\\n",
       "0                         0                       0   \n",
       "1                         0                       0   \n",
       "2                         0                       0   \n",
       "3                         0                       0   \n",
       "4                         0                       0   \n",
       "\n",
       "   Medicine_Type_Antibiotics  Medicine_Type_Antifungal  \\\n",
       "0                          0                         0   \n",
       "1                          0                         0   \n",
       "2                          0                         0   \n",
       "3                          0                         0   \n",
       "4                          0                         0   \n",
       "\n",
       "   Medicine_Type_Antimalarial  Medicine_Type_Antipyretics  \\\n",
       "0                           1                           0   \n",
       "1                           0                           0   \n",
       "2                           0                           0   \n",
       "3                           0                           0   \n",
       "4                           0                           0   \n",
       "\n",
       "   Medicine_Type_Antiseptics  Medicine_Type_Antiviral  Medicine_Type_Cardiac  \\\n",
       "0                          0                        0                      0   \n",
       "1                          0                        0                      0   \n",
       "2                          0                        0                      1   \n",
       "3                          0                        0                      0   \n",
       "4                          0                        0                      0   \n",
       "\n",
       "   Medicine_Type_Hreplacements  Medicine_Type_Mstablizers  \\\n",
       "0                            0                          0   \n",
       "1                            0                          1   \n",
       "2                            0                          0   \n",
       "3                            0                          0   \n",
       "4                            1                          0   \n",
       "\n",
       "   Medicine_Type_MuscleRelaxants  Medicine_Type_OralContraceptives  \\\n",
       "0                              0                                 0   \n",
       "1                              0                                 0   \n",
       "2                              0                                 0   \n",
       "3                              0                                 1   \n",
       "4                              0                                 0   \n",
       "\n",
       "   Medicine_Type_Statins  Medicine_Type_Stimulants  \\\n",
       "0                      0                         0   \n",
       "1                      0                         0   \n",
       "2                      0                         0   \n",
       "3                      0                         0   \n",
       "4                      0                         0   \n",
       "\n",
       "   Medicine_Type_Tranquilizers  \n",
       "0                            0  \n",
       "1                            0  \n",
       "2                            0  \n",
       "3                            0  \n",
       "4                            0  "
      ]
     },
     "execution_count": 13,
     "metadata": {},
     "output_type": "execute_result"
    }
   ],
   "source": [
    "Medicine_Type_dummies=pd.get_dummies(cd_train['Medicine_Type'],prefix=\"Medicine_Type\")\n",
    "Medicine_Type_dummies.head()"
   ]
  },
  {
   "cell_type": "code",
   "execution_count": 14,
   "metadata": {},
   "outputs": [],
   "source": [
    "cd_train=pd.concat([cd_train,Medicine_Type_dummies],1)\n",
    "cd_train=cd_train.drop(['Medicine_Type','Medicine_Type_Tranquilizers'],1)"
   ]
  },
  {
   "cell_type": "code",
   "execution_count": 15,
   "metadata": {},
   "outputs": [],
   "source": [
    "Medicine_Type_dummies=pd.get_dummies(cd_test['Medicine_Type'],prefix=\"Medicine_Type\")\n",
    "cd_test=pd.concat([cd_test,Medicine_Type_dummies],1)\n",
    "cd_test=cd_test.drop(['Medicine_Type','Medicine_Type_Tranquilizers'],1)"
   ]
  },
  {
   "cell_type": "code",
   "execution_count": 16,
   "metadata": {},
   "outputs": [
    {
     "data": {
      "text/html": [
       "<div>\n",
       "<style scoped>\n",
       "    .dataframe tbody tr th:only-of-type {\n",
       "        vertical-align: middle;\n",
       "    }\n",
       "\n",
       "    .dataframe tbody tr th {\n",
       "        vertical-align: top;\n",
       "    }\n",
       "\n",
       "    .dataframe thead th {\n",
       "        text-align: right;\n",
       "    }\n",
       "</style>\n",
       "<table border=\"1\" class=\"dataframe\">\n",
       "  <thead>\n",
       "    <tr style=\"text-align: right;\">\n",
       "      <th></th>\n",
       "      <th>Area_Type_CityLimits</th>\n",
       "      <th>Area_Type_DownTown</th>\n",
       "      <th>Area_Type_Industrial</th>\n",
       "      <th>Area_Type_MidTownResidential</th>\n",
       "    </tr>\n",
       "  </thead>\n",
       "  <tbody>\n",
       "    <tr>\n",
       "      <th>0</th>\n",
       "      <td>0</td>\n",
       "      <td>1</td>\n",
       "      <td>0</td>\n",
       "      <td>0</td>\n",
       "    </tr>\n",
       "    <tr>\n",
       "      <th>1</th>\n",
       "      <td>1</td>\n",
       "      <td>0</td>\n",
       "      <td>0</td>\n",
       "      <td>0</td>\n",
       "    </tr>\n",
       "    <tr>\n",
       "      <th>2</th>\n",
       "      <td>0</td>\n",
       "      <td>1</td>\n",
       "      <td>0</td>\n",
       "      <td>0</td>\n",
       "    </tr>\n",
       "    <tr>\n",
       "      <th>3</th>\n",
       "      <td>0</td>\n",
       "      <td>1</td>\n",
       "      <td>0</td>\n",
       "      <td>0</td>\n",
       "    </tr>\n",
       "    <tr>\n",
       "      <th>4</th>\n",
       "      <td>0</td>\n",
       "      <td>0</td>\n",
       "      <td>0</td>\n",
       "      <td>1</td>\n",
       "    </tr>\n",
       "  </tbody>\n",
       "</table>\n",
       "</div>"
      ],
      "text/plain": [
       "   Area_Type_CityLimits  Area_Type_DownTown  Area_Type_Industrial  \\\n",
       "0                     0                   1                     0   \n",
       "1                     1                   0                     0   \n",
       "2                     0                   1                     0   \n",
       "3                     0                   1                     0   \n",
       "4                     0                   0                     0   \n",
       "\n",
       "   Area_Type_MidTownResidential  \n",
       "0                             0  \n",
       "1                             0  \n",
       "2                             0  \n",
       "3                             0  \n",
       "4                             1  "
      ]
     },
     "execution_count": 16,
     "metadata": {},
     "output_type": "execute_result"
    }
   ],
   "source": [
    "Area_Type_dummies=pd.get_dummies(cd_train['Area_Type'],prefix=\"Area_Type\")\n",
    "Area_Type_dummies.head()"
   ]
  },
  {
   "cell_type": "code",
   "execution_count": 17,
   "metadata": {},
   "outputs": [],
   "source": [
    "cd_train=pd.concat([cd_train,Area_Type_dummies],1)\n",
    "cd_train=cd_train.drop(['Area_Type','Area_Type_MidTownResidential'],1)"
   ]
  },
  {
   "cell_type": "code",
   "execution_count": 18,
   "metadata": {},
   "outputs": [],
   "source": [
    "Area_Type_dummies=pd.get_dummies(cd_test['Area_Type'],prefix=\"Area_Type\")\n",
    "cd_test=pd.concat([cd_test,Area_Type_dummies],1)\n",
    "cd_test=cd_test.drop(['Area_Type','Area_Type_MidTownResidential'],1)"
   ]
  },
  {
   "cell_type": "code",
   "execution_count": 19,
   "metadata": {},
   "outputs": [
    {
     "data": {
      "text/html": [
       "<div>\n",
       "<style scoped>\n",
       "    .dataframe tbody tr th:only-of-type {\n",
       "        vertical-align: middle;\n",
       "    }\n",
       "\n",
       "    .dataframe tbody tr th {\n",
       "        vertical-align: top;\n",
       "    }\n",
       "\n",
       "    .dataframe thead th {\n",
       "        text-align: right;\n",
       "    }\n",
       "</style>\n",
       "<table border=\"1\" class=\"dataframe\">\n",
       "  <thead>\n",
       "    <tr style=\"text-align: right;\">\n",
       "      <th></th>\n",
       "      <th>Area_City_Type_Tier 1</th>\n",
       "      <th>Area_City_Type_Tier 2</th>\n",
       "      <th>Area_City_Type_Tier 3</th>\n",
       "    </tr>\n",
       "  </thead>\n",
       "  <tbody>\n",
       "    <tr>\n",
       "      <th>0</th>\n",
       "      <td>1</td>\n",
       "      <td>0</td>\n",
       "      <td>0</td>\n",
       "    </tr>\n",
       "    <tr>\n",
       "      <th>1</th>\n",
       "      <td>0</td>\n",
       "      <td>0</td>\n",
       "      <td>1</td>\n",
       "    </tr>\n",
       "    <tr>\n",
       "      <th>2</th>\n",
       "      <td>1</td>\n",
       "      <td>0</td>\n",
       "      <td>0</td>\n",
       "    </tr>\n",
       "    <tr>\n",
       "      <th>3</th>\n",
       "      <td>1</td>\n",
       "      <td>0</td>\n",
       "      <td>0</td>\n",
       "    </tr>\n",
       "    <tr>\n",
       "      <th>4</th>\n",
       "      <td>1</td>\n",
       "      <td>0</td>\n",
       "      <td>0</td>\n",
       "    </tr>\n",
       "  </tbody>\n",
       "</table>\n",
       "</div>"
      ],
      "text/plain": [
       "   Area_City_Type_Tier 1  Area_City_Type_Tier 2  Area_City_Type_Tier 3\n",
       "0                      1                      0                      0\n",
       "1                      0                      0                      1\n",
       "2                      1                      0                      0\n",
       "3                      1                      0                      0\n",
       "4                      1                      0                      0"
      ]
     },
     "execution_count": 19,
     "metadata": {},
     "output_type": "execute_result"
    }
   ],
   "source": [
    "Area_City_Type_dummies=pd.get_dummies(cd_train['Area_City_Type'],prefix=\"Area_City_Type\")\n",
    "Area_City_Type_dummies.head()"
   ]
  },
  {
   "cell_type": "code",
   "execution_count": 20,
   "metadata": {},
   "outputs": [],
   "source": [
    "cd_train=pd.concat([cd_train,Area_City_Type_dummies],1)\n",
    "cd_train=cd_train.drop(['Area_City_Type','Area_City_Type_Tier 3'],1)"
   ]
  },
  {
   "cell_type": "code",
   "execution_count": 21,
   "metadata": {},
   "outputs": [],
   "source": [
    "Area_City_Type_dummies=pd.get_dummies(cd_test['Area_City_Type'],prefix=\"Area_City_Type\")\n",
    "cd_test=pd.concat([cd_test,Area_City_Type_dummies],1)\n",
    "cd_test=cd_test.drop(['Area_City_Type','Area_City_Type_Tier 3'],1)"
   ]
  },
  {
   "cell_type": "code",
   "execution_count": 22,
   "metadata": {},
   "outputs": [
    {
     "data": {
      "text/html": [
       "<div>\n",
       "<style scoped>\n",
       "    .dataframe tbody tr th:only-of-type {\n",
       "        vertical-align: middle;\n",
       "    }\n",
       "\n",
       "    .dataframe tbody tr th {\n",
       "        vertical-align: top;\n",
       "    }\n",
       "\n",
       "    .dataframe thead th {\n",
       "        text-align: right;\n",
       "    }\n",
       "</style>\n",
       "<table border=\"1\" class=\"dataframe\">\n",
       "  <thead>\n",
       "    <tr style=\"text-align: right;\">\n",
       "      <th></th>\n",
       "      <th>Area_dist_level_High</th>\n",
       "      <th>Area_dist_level_Medium</th>\n",
       "      <th>Area_dist_level_Small</th>\n",
       "      <th>Area_dist_level_Unknown</th>\n",
       "    </tr>\n",
       "  </thead>\n",
       "  <tbody>\n",
       "    <tr>\n",
       "      <th>0</th>\n",
       "      <td>0</td>\n",
       "      <td>0</td>\n",
       "      <td>1</td>\n",
       "      <td>0</td>\n",
       "    </tr>\n",
       "    <tr>\n",
       "      <th>1</th>\n",
       "      <td>0</td>\n",
       "      <td>1</td>\n",
       "      <td>0</td>\n",
       "      <td>0</td>\n",
       "    </tr>\n",
       "    <tr>\n",
       "      <th>2</th>\n",
       "      <td>0</td>\n",
       "      <td>0</td>\n",
       "      <td>1</td>\n",
       "      <td>0</td>\n",
       "    </tr>\n",
       "    <tr>\n",
       "      <th>3</th>\n",
       "      <td>0</td>\n",
       "      <td>0</td>\n",
       "      <td>1</td>\n",
       "      <td>0</td>\n",
       "    </tr>\n",
       "    <tr>\n",
       "      <th>4</th>\n",
       "      <td>0</td>\n",
       "      <td>0</td>\n",
       "      <td>1</td>\n",
       "      <td>0</td>\n",
       "    </tr>\n",
       "  </tbody>\n",
       "</table>\n",
       "</div>"
      ],
      "text/plain": [
       "   Area_dist_level_High  Area_dist_level_Medium  Area_dist_level_Small  \\\n",
       "0                     0                       0                      1   \n",
       "1                     0                       1                      0   \n",
       "2                     0                       0                      1   \n",
       "3                     0                       0                      1   \n",
       "4                     0                       0                      1   \n",
       "\n",
       "   Area_dist_level_Unknown  \n",
       "0                        0  \n",
       "1                        0  \n",
       "2                        0  \n",
       "3                        0  \n",
       "4                        0  "
      ]
     },
     "execution_count": 22,
     "metadata": {},
     "output_type": "execute_result"
    }
   ],
   "source": [
    "Area_dist_level_dummies=pd.get_dummies(cd_train['Area_dist_level'],prefix=\"Area_dist_level\")\n",
    "Area_dist_level_dummies.head()"
   ]
  },
  {
   "cell_type": "code",
   "execution_count": 23,
   "metadata": {},
   "outputs": [],
   "source": [
    "cd_train=pd.concat([cd_train,Area_dist_level_dummies],1)\n",
    "cd_train=cd_train.drop(['Area_dist_level','Area_dist_level_Unknown'],1)"
   ]
  },
  {
   "cell_type": "code",
   "execution_count": 24,
   "metadata": {},
   "outputs": [],
   "source": [
    "Area_dist_level_dummies=pd.get_dummies(cd_test['Area_dist_level'],prefix=\"Area_dist_level\")\n",
    "cd_test=pd.concat([cd_test,Area_dist_level_dummies],1)\n",
    "cd_test=cd_test.drop(['Area_dist_level','Area_dist_level_Unknown'],1)"
   ]
  },
  {
   "cell_type": "code",
   "execution_count": 25,
   "metadata": {},
   "outputs": [
    {
     "data": {
      "text/html": [
       "<div>\n",
       "<style scoped>\n",
       "    .dataframe tbody tr th:only-of-type {\n",
       "        vertical-align: middle;\n",
       "    }\n",
       "\n",
       "    .dataframe tbody tr th {\n",
       "        vertical-align: top;\n",
       "    }\n",
       "\n",
       "    .dataframe thead th {\n",
       "        text-align: right;\n",
       "    }\n",
       "</style>\n",
       "<table border=\"1\" class=\"dataframe\">\n",
       "  <thead>\n",
       "    <tr style=\"text-align: right;\">\n",
       "      <th></th>\n",
       "      <th>Counterfeit_Weight</th>\n",
       "      <th>Medicine_MRP</th>\n",
       "      <th>SidEffect_Level</th>\n",
       "      <th>Availability_rating</th>\n",
       "      <th>Counterfeit_Sales</th>\n",
       "      <th>DistID_Area010</th>\n",
       "      <th>DistID_Area013</th>\n",
       "      <th>DistID_Area017</th>\n",
       "      <th>DistID_Area018</th>\n",
       "      <th>DistID_Area019</th>\n",
       "      <th>...</th>\n",
       "      <th>Medicine_Type_Statins</th>\n",
       "      <th>Medicine_Type_Stimulants</th>\n",
       "      <th>Area_Type_CityLimits</th>\n",
       "      <th>Area_Type_DownTown</th>\n",
       "      <th>Area_Type_Industrial</th>\n",
       "      <th>Area_City_Type_Tier 1</th>\n",
       "      <th>Area_City_Type_Tier 2</th>\n",
       "      <th>Area_dist_level_High</th>\n",
       "      <th>Area_dist_level_Medium</th>\n",
       "      <th>Area_dist_level_Small</th>\n",
       "    </tr>\n",
       "  </thead>\n",
       "  <tbody>\n",
       "    <tr>\n",
       "      <th>0</th>\n",
       "      <td>13.100000</td>\n",
       "      <td>160.2366</td>\n",
       "      <td>0</td>\n",
       "      <td>0.070422</td>\n",
       "      <td>1775.5026</td>\n",
       "      <td>0</td>\n",
       "      <td>0</td>\n",
       "      <td>0</td>\n",
       "      <td>0</td>\n",
       "      <td>0</td>\n",
       "      <td>...</td>\n",
       "      <td>0</td>\n",
       "      <td>0</td>\n",
       "      <td>0</td>\n",
       "      <td>1</td>\n",
       "      <td>0</td>\n",
       "      <td>1</td>\n",
       "      <td>0</td>\n",
       "      <td>0</td>\n",
       "      <td>0</td>\n",
       "      <td>1</td>\n",
       "    </tr>\n",
       "    <tr>\n",
       "      <th>1</th>\n",
       "      <td>14.115057</td>\n",
       "      <td>110.4384</td>\n",
       "      <td>1</td>\n",
       "      <td>0.013000</td>\n",
       "      <td>3069.1520</td>\n",
       "      <td>0</td>\n",
       "      <td>0</td>\n",
       "      <td>0</td>\n",
       "      <td>0</td>\n",
       "      <td>0</td>\n",
       "      <td>...</td>\n",
       "      <td>0</td>\n",
       "      <td>0</td>\n",
       "      <td>1</td>\n",
       "      <td>0</td>\n",
       "      <td>0</td>\n",
       "      <td>0</td>\n",
       "      <td>0</td>\n",
       "      <td>0</td>\n",
       "      <td>1</td>\n",
       "      <td>0</td>\n",
       "    </tr>\n",
       "    <tr>\n",
       "      <th>2</th>\n",
       "      <td>9.025000</td>\n",
       "      <td>259.4092</td>\n",
       "      <td>1</td>\n",
       "      <td>0.060783</td>\n",
       "      <td>2603.0920</td>\n",
       "      <td>0</td>\n",
       "      <td>0</td>\n",
       "      <td>0</td>\n",
       "      <td>0</td>\n",
       "      <td>0</td>\n",
       "      <td>...</td>\n",
       "      <td>0</td>\n",
       "      <td>0</td>\n",
       "      <td>0</td>\n",
       "      <td>1</td>\n",
       "      <td>0</td>\n",
       "      <td>1</td>\n",
       "      <td>0</td>\n",
       "      <td>0</td>\n",
       "      <td>0</td>\n",
       "      <td>1</td>\n",
       "    </tr>\n",
       "    <tr>\n",
       "      <th>3</th>\n",
       "      <td>11.800000</td>\n",
       "      <td>99.9830</td>\n",
       "      <td>1</td>\n",
       "      <td>0.065555</td>\n",
       "      <td>1101.7130</td>\n",
       "      <td>0</td>\n",
       "      <td>0</td>\n",
       "      <td>0</td>\n",
       "      <td>0</td>\n",
       "      <td>0</td>\n",
       "      <td>...</td>\n",
       "      <td>0</td>\n",
       "      <td>0</td>\n",
       "      <td>0</td>\n",
       "      <td>1</td>\n",
       "      <td>0</td>\n",
       "      <td>1</td>\n",
       "      <td>0</td>\n",
       "      <td>0</td>\n",
       "      <td>0</td>\n",
       "      <td>1</td>\n",
       "    </tr>\n",
       "    <tr>\n",
       "      <th>4</th>\n",
       "      <td>14.115057</td>\n",
       "      <td>56.4402</td>\n",
       "      <td>0</td>\n",
       "      <td>0.248859</td>\n",
       "      <td>158.9402</td>\n",
       "      <td>0</td>\n",
       "      <td>0</td>\n",
       "      <td>0</td>\n",
       "      <td>0</td>\n",
       "      <td>1</td>\n",
       "      <td>...</td>\n",
       "      <td>0</td>\n",
       "      <td>0</td>\n",
       "      <td>0</td>\n",
       "      <td>0</td>\n",
       "      <td>0</td>\n",
       "      <td>1</td>\n",
       "      <td>0</td>\n",
       "      <td>0</td>\n",
       "      <td>0</td>\n",
       "      <td>1</td>\n",
       "    </tr>\n",
       "  </tbody>\n",
       "</table>\n",
       "<p>5 rows × 45 columns</p>\n",
       "</div>"
      ],
      "text/plain": [
       "   Counterfeit_Weight  Medicine_MRP  SidEffect_Level  Availability_rating  \\\n",
       "0           13.100000      160.2366                0             0.070422   \n",
       "1           14.115057      110.4384                1             0.013000   \n",
       "2            9.025000      259.4092                1             0.060783   \n",
       "3           11.800000       99.9830                1             0.065555   \n",
       "4           14.115057       56.4402                0             0.248859   \n",
       "\n",
       "   Counterfeit_Sales  DistID_Area010  DistID_Area013  DistID_Area017  \\\n",
       "0          1775.5026               0               0               0   \n",
       "1          3069.1520               0               0               0   \n",
       "2          2603.0920               0               0               0   \n",
       "3          1101.7130               0               0               0   \n",
       "4           158.9402               0               0               0   \n",
       "\n",
       "   DistID_Area018  DistID_Area019  ...  Medicine_Type_Statins  \\\n",
       "0               0               0  ...                      0   \n",
       "1               0               0  ...                      0   \n",
       "2               0               0  ...                      0   \n",
       "3               0               0  ...                      0   \n",
       "4               0               1  ...                      0   \n",
       "\n",
       "   Medicine_Type_Stimulants  Area_Type_CityLimits  Area_Type_DownTown  \\\n",
       "0                         0                     0                   1   \n",
       "1                         0                     1                   0   \n",
       "2                         0                     0                   1   \n",
       "3                         0                     0                   1   \n",
       "4                         0                     0                   0   \n",
       "\n",
       "   Area_Type_Industrial  Area_City_Type_Tier 1  Area_City_Type_Tier 2  \\\n",
       "0                     0                      1                      0   \n",
       "1                     0                      0                      0   \n",
       "2                     0                      1                      0   \n",
       "3                     0                      1                      0   \n",
       "4                     0                      1                      0   \n",
       "\n",
       "   Area_dist_level_High  Area_dist_level_Medium  Area_dist_level_Small  \n",
       "0                     0                       0                      1  \n",
       "1                     0                       1                      0  \n",
       "2                     0                       0                      1  \n",
       "3                     0                       0                      1  \n",
       "4                     0                       0                      1  \n",
       "\n",
       "[5 rows x 45 columns]"
      ]
     },
     "execution_count": 25,
     "metadata": {},
     "output_type": "execute_result"
    }
   ],
   "source": [
    "cd_train.head()"
   ]
  },
  {
   "cell_type": "code",
   "execution_count": 26,
   "metadata": {},
   "outputs": [
    {
     "data": {
      "text/plain": [
       "Counterfeit_Weight                  float64\n",
       "Medicine_MRP                        float64\n",
       "SidEffect_Level                       int32\n",
       "Availability_rating                 float64\n",
       "Counterfeit_Sales                   float64\n",
       "DistID_Area010                        uint8\n",
       "DistID_Area013                        uint8\n",
       "DistID_Area017                        uint8\n",
       "DistID_Area018                        uint8\n",
       "DistID_Area019                        uint8\n",
       "DistID_Area027                        uint8\n",
       "DistID_Area035                        uint8\n",
       "DistID_Area045                        uint8\n",
       "DistID_Area046                        uint8\n",
       "Active_Since_1983                     uint8\n",
       "Active_Since_1985                     uint8\n",
       "Active_Since_1995                     uint8\n",
       "Active_Since_1996                     uint8\n",
       "Active_Since_1997                     uint8\n",
       "Active_Since_2000                     uint8\n",
       "Active_Since_2002                     uint8\n",
       "Active_Since_2005                     uint8\n",
       "Medicine_Type_Analgesics              uint8\n",
       "Medicine_Type_Antacids                uint8\n",
       "Medicine_Type_Antibiotics             uint8\n",
       "Medicine_Type_Antifungal              uint8\n",
       "Medicine_Type_Antimalarial            uint8\n",
       "Medicine_Type_Antipyretics            uint8\n",
       "Medicine_Type_Antiseptics             uint8\n",
       "Medicine_Type_Antiviral               uint8\n",
       "Medicine_Type_Cardiac                 uint8\n",
       "Medicine_Type_Hreplacements           uint8\n",
       "Medicine_Type_Mstablizers             uint8\n",
       "Medicine_Type_MuscleRelaxants         uint8\n",
       "Medicine_Type_OralContraceptives      uint8\n",
       "Medicine_Type_Statins                 uint8\n",
       "Medicine_Type_Stimulants              uint8\n",
       "Area_Type_CityLimits                  uint8\n",
       "Area_Type_DownTown                    uint8\n",
       "Area_Type_Industrial                  uint8\n",
       "Area_City_Type_Tier 1                 uint8\n",
       "Area_City_Type_Tier 2                 uint8\n",
       "Area_dist_level_High                  uint8\n",
       "Area_dist_level_Medium                uint8\n",
       "Area_dist_level_Small                 uint8\n",
       "dtype: object"
      ]
     },
     "execution_count": 26,
     "metadata": {},
     "output_type": "execute_result"
    }
   ],
   "source": [
    "cd_train.dtypes"
   ]
  },
  {
   "cell_type": "code",
   "execution_count": 27,
   "metadata": {},
   "outputs": [
    {
     "data": {
      "text/html": [
       "<div>\n",
       "<style scoped>\n",
       "    .dataframe tbody tr th:only-of-type {\n",
       "        vertical-align: middle;\n",
       "    }\n",
       "\n",
       "    .dataframe tbody tr th {\n",
       "        vertical-align: top;\n",
       "    }\n",
       "\n",
       "    .dataframe thead th {\n",
       "        text-align: right;\n",
       "    }\n",
       "</style>\n",
       "<table border=\"1\" class=\"dataframe\">\n",
       "  <thead>\n",
       "    <tr style=\"text-align: right;\">\n",
       "      <th></th>\n",
       "      <th>Counterfeit_Weight</th>\n",
       "      <th>Medicine_MRP</th>\n",
       "      <th>SidEffect_Level</th>\n",
       "      <th>Availability_rating</th>\n",
       "      <th>DistID_Area010</th>\n",
       "      <th>DistID_Area013</th>\n",
       "      <th>DistID_Area017</th>\n",
       "      <th>DistID_Area018</th>\n",
       "      <th>DistID_Area019</th>\n",
       "      <th>DistID_Area027</th>\n",
       "      <th>...</th>\n",
       "      <th>Medicine_Type_Statins</th>\n",
       "      <th>Medicine_Type_Stimulants</th>\n",
       "      <th>Area_Type_CityLimits</th>\n",
       "      <th>Area_Type_DownTown</th>\n",
       "      <th>Area_Type_Industrial</th>\n",
       "      <th>Area_City_Type_Tier 1</th>\n",
       "      <th>Area_City_Type_Tier 2</th>\n",
       "      <th>Area_dist_level_High</th>\n",
       "      <th>Area_dist_level_Medium</th>\n",
       "      <th>Area_dist_level_Small</th>\n",
       "    </tr>\n",
       "  </thead>\n",
       "  <tbody>\n",
       "    <tr>\n",
       "      <th>0</th>\n",
       "      <td>14.328604</td>\n",
       "      <td>85.5328</td>\n",
       "      <td>1</td>\n",
       "      <td>0.112747</td>\n",
       "      <td>0</td>\n",
       "      <td>0</td>\n",
       "      <td>0</td>\n",
       "      <td>0</td>\n",
       "      <td>0</td>\n",
       "      <td>1</td>\n",
       "      <td>...</td>\n",
       "      <td>0</td>\n",
       "      <td>0</td>\n",
       "      <td>1</td>\n",
       "      <td>0</td>\n",
       "      <td>0</td>\n",
       "      <td>0</td>\n",
       "      <td>0</td>\n",
       "      <td>0</td>\n",
       "      <td>1</td>\n",
       "      <td>0</td>\n",
       "    </tr>\n",
       "    <tr>\n",
       "      <th>1</th>\n",
       "      <td>13.450000</td>\n",
       "      <td>257.1460</td>\n",
       "      <td>1</td>\n",
       "      <td>0.144446</td>\n",
       "      <td>0</td>\n",
       "      <td>0</td>\n",
       "      <td>0</td>\n",
       "      <td>0</td>\n",
       "      <td>0</td>\n",
       "      <td>0</td>\n",
       "      <td>...</td>\n",
       "      <td>0</td>\n",
       "      <td>0</td>\n",
       "      <td>0</td>\n",
       "      <td>1</td>\n",
       "      <td>0</td>\n",
       "      <td>0</td>\n",
       "      <td>1</td>\n",
       "      <td>0</td>\n",
       "      <td>0</td>\n",
       "      <td>0</td>\n",
       "    </tr>\n",
       "    <tr>\n",
       "      <th>2</th>\n",
       "      <td>7.100000</td>\n",
       "      <td>98.1172</td>\n",
       "      <td>1</td>\n",
       "      <td>0.144221</td>\n",
       "      <td>0</td>\n",
       "      <td>0</td>\n",
       "      <td>0</td>\n",
       "      <td>0</td>\n",
       "      <td>0</td>\n",
       "      <td>0</td>\n",
       "      <td>...</td>\n",
       "      <td>0</td>\n",
       "      <td>0</td>\n",
       "      <td>0</td>\n",
       "      <td>1</td>\n",
       "      <td>0</td>\n",
       "      <td>0</td>\n",
       "      <td>1</td>\n",
       "      <td>0</td>\n",
       "      <td>0</td>\n",
       "      <td>0</td>\n",
       "    </tr>\n",
       "    <tr>\n",
       "      <th>3</th>\n",
       "      <td>18.300000</td>\n",
       "      <td>135.3730</td>\n",
       "      <td>1</td>\n",
       "      <td>0.100388</td>\n",
       "      <td>1</td>\n",
       "      <td>0</td>\n",
       "      <td>0</td>\n",
       "      <td>0</td>\n",
       "      <td>0</td>\n",
       "      <td>0</td>\n",
       "      <td>...</td>\n",
       "      <td>0</td>\n",
       "      <td>0</td>\n",
       "      <td>0</td>\n",
       "      <td>0</td>\n",
       "      <td>0</td>\n",
       "      <td>0</td>\n",
       "      <td>0</td>\n",
       "      <td>0</td>\n",
       "      <td>0</td>\n",
       "      <td>0</td>\n",
       "    </tr>\n",
       "    <tr>\n",
       "      <th>4</th>\n",
       "      <td>14.328604</td>\n",
       "      <td>112.8016</td>\n",
       "      <td>1</td>\n",
       "      <td>0.022585</td>\n",
       "      <td>0</td>\n",
       "      <td>0</td>\n",
       "      <td>0</td>\n",
       "      <td>0</td>\n",
       "      <td>1</td>\n",
       "      <td>0</td>\n",
       "      <td>...</td>\n",
       "      <td>0</td>\n",
       "      <td>0</td>\n",
       "      <td>0</td>\n",
       "      <td>0</td>\n",
       "      <td>0</td>\n",
       "      <td>1</td>\n",
       "      <td>0</td>\n",
       "      <td>0</td>\n",
       "      <td>0</td>\n",
       "      <td>1</td>\n",
       "    </tr>\n",
       "  </tbody>\n",
       "</table>\n",
       "<p>5 rows × 44 columns</p>\n",
       "</div>"
      ],
      "text/plain": [
       "   Counterfeit_Weight  Medicine_MRP  SidEffect_Level  Availability_rating  \\\n",
       "0           14.328604       85.5328                1             0.112747   \n",
       "1           13.450000      257.1460                1             0.144446   \n",
       "2            7.100000       98.1172                1             0.144221   \n",
       "3           18.300000      135.3730                1             0.100388   \n",
       "4           14.328604      112.8016                1             0.022585   \n",
       "\n",
       "   DistID_Area010  DistID_Area013  DistID_Area017  DistID_Area018  \\\n",
       "0               0               0               0               0   \n",
       "1               0               0               0               0   \n",
       "2               0               0               0               0   \n",
       "3               1               0               0               0   \n",
       "4               0               0               0               0   \n",
       "\n",
       "   DistID_Area019  DistID_Area027  ...  Medicine_Type_Statins  \\\n",
       "0               0               1  ...                      0   \n",
       "1               0               0  ...                      0   \n",
       "2               0               0  ...                      0   \n",
       "3               0               0  ...                      0   \n",
       "4               1               0  ...                      0   \n",
       "\n",
       "   Medicine_Type_Stimulants  Area_Type_CityLimits  Area_Type_DownTown  \\\n",
       "0                         0                     1                   0   \n",
       "1                         0                     0                   1   \n",
       "2                         0                     0                   1   \n",
       "3                         0                     0                   0   \n",
       "4                         0                     0                   0   \n",
       "\n",
       "   Area_Type_Industrial  Area_City_Type_Tier 1  Area_City_Type_Tier 2  \\\n",
       "0                     0                      0                      0   \n",
       "1                     0                      0                      1   \n",
       "2                     0                      0                      1   \n",
       "3                     0                      0                      0   \n",
       "4                     0                      1                      0   \n",
       "\n",
       "   Area_dist_level_High  Area_dist_level_Medium  Area_dist_level_Small  \n",
       "0                     0                       1                      0  \n",
       "1                     0                       0                      0  \n",
       "2                     0                       0                      0  \n",
       "3                     0                       0                      0  \n",
       "4                     0                       0                      1  \n",
       "\n",
       "[5 rows x 44 columns]"
      ]
     },
     "execution_count": 27,
     "metadata": {},
     "output_type": "execute_result"
    }
   ],
   "source": [
    "cd_test.head()"
   ]
  },
  {
   "cell_type": "code",
   "execution_count": 27,
   "metadata": {},
   "outputs": [],
   "source": [
    "from sklearn.model_selection import train_test_split\n",
    "from sklearn.linear_model import LinearRegression, Lasso, Ridge\n",
    "from sklearn.model_selection import KFold\n",
    "%matplotlib inline\n",
    "from sklearn.metrics import roc_auc_score\n",
    "import sklearn\n",
    "from sklearn.metrics import r2_score\n",
    "from sklearn.metrics import mean_absolute_error"
   ]
  },
  {
   "cell_type": "code",
   "execution_count": 28,
   "metadata": {},
   "outputs": [],
   "source": [
    "bd_train, bd_test = train_test_split(cd_train, test_size = 0.2,random_state=2)"
   ]
  },
  {
   "cell_type": "code",
   "execution_count": 29,
   "metadata": {},
   "outputs": [],
   "source": [
    "x_train=bd_train.drop(['Counterfeit_Sales'],1)\n",
    "y_train=bd_train['Counterfeit_Sales']\n",
    "x_test=bd_test.drop(['Counterfeit_Sales'],1)\n",
    "y_test=bd_test['Counterfeit_Sales']"
   ]
  },
  {
   "cell_type": "code",
   "execution_count": 55,
   "metadata": {},
   "outputs": [],
   "source": [
    "lm=LinearRegression()"
   ]
  },
  {
   "cell_type": "code",
   "execution_count": 56,
   "metadata": {},
   "outputs": [
    {
     "data": {
      "text/plain": [
       "LinearRegression(copy_X=True, fit_intercept=True, n_jobs=None, normalize=False)"
      ]
     },
     "execution_count": 56,
     "metadata": {},
     "output_type": "execute_result"
    }
   ],
   "source": [
    "lm.fit(x_train,y_train)"
   ]
  },
  {
   "cell_type": "code",
   "execution_count": 57,
   "metadata": {},
   "outputs": [
    {
     "data": {
      "text/plain": [
       "1132.8342638011886"
      ]
     },
     "execution_count": 57,
     "metadata": {},
     "output_type": "execute_result"
    }
   ],
   "source": [
    "p_test=lm.predict(x_test)\n",
    "\n",
    "residual=p_test-y_test\n",
    "\n",
    "rmse_lm=np.sqrt(np.dot(residual,residual)/len(p_test))\n",
    "\n",
    "rmse_lm"
   ]
  },
  {
   "cell_type": "code",
   "execution_count": 58,
   "metadata": {},
   "outputs": [
    {
     "data": {
      "text/plain": [
       "830.050146841315"
      ]
     },
     "execution_count": 58,
     "metadata": {},
     "output_type": "execute_result"
    }
   ],
   "source": [
    "MAE=mean_absolute_error(y_test,p_test)\n",
    "MAE"
   ]
  },
  {
   "cell_type": "code",
   "execution_count": 59,
   "metadata": {},
   "outputs": [
    {
     "data": {
      "text/plain": [
       "0.4999697910594487"
      ]
     },
     "execution_count": 59,
     "metadata": {},
     "output_type": "execute_result"
    }
   ],
   "source": [
    "Score=1-(MAE/1660)\n",
    "Score"
   ]
  },
  {
   "cell_type": "code",
   "execution_count": 60,
   "metadata": {},
   "outputs": [
    {
     "data": {
      "text/plain": [
       "0.18276366063437222"
      ]
     },
     "execution_count": 60,
     "metadata": {},
     "output_type": "execute_result"
    }
   ],
   "source": [
    "r2_score(p_test,y_test)"
   ]
  },
  {
   "cell_type": "code",
   "execution_count": 61,
   "metadata": {},
   "outputs": [
    {
     "data": {
      "text/plain": [
       "array([  -4.7618425 ,   15.42650404,    1.47837725, -273.65566359,\n",
       "       -559.41039281,   65.47282428,   52.90575607,  -87.03198339,\n",
       "       -682.99024261,  750.68197368,  159.67689449,  -34.23654999,\n",
       "        356.32363053,   67.69173107,   65.47282428,  356.32363053,\n",
       "       -559.41039281,  -21.39191025,  -34.23654999,  159.67689449,\n",
       "         52.90575607,   65.67860936,   69.87977084,  142.79023665,\n",
       "         68.40991994,   78.84271607,   14.29605233,   48.38037597,\n",
       "        433.88984089,  153.48422512,   43.99165549,   62.58148889,\n",
       "        176.69541934,   75.91240477,  137.12903772,  113.20203417,\n",
       "        750.68197368,  578.75064513,  -87.03198339, -348.05852233,\n",
       "        178.34610058,   65.47282428,  642.25808003, -166.98971759])"
      ]
     },
     "execution_count": 61,
     "metadata": {},
     "output_type": "execute_result"
    }
   ],
   "source": [
    "coefs=lm.coef_\n",
    "coefs"
   ]
  },
  {
   "cell_type": "code",
   "execution_count": 62,
   "metadata": {},
   "outputs": [
    {
     "data": {
      "text/plain": [
       "-727.2278989707233"
      ]
     },
     "execution_count": 62,
     "metadata": {},
     "output_type": "execute_result"
    }
   ],
   "source": [
    "lm.intercept_"
   ]
  },
  {
   "cell_type": "code",
   "execution_count": 63,
   "metadata": {},
   "outputs": [
    {
     "data": {
      "text/plain": [
       "[('Counterfeit_Weight', -4.761842500980413),\n",
       " ('Medicine_MRP', 15.426504040886124),\n",
       " ('SidEffect_Level', 1.4783772546201015),\n",
       " ('Availability_rating', -273.6556635897964),\n",
       " ('DistID_Area010', -559.4103928084863),\n",
       " ('DistID_Area013', 65.47282427507274),\n",
       " ('DistID_Area017', 52.90575607426339),\n",
       " ('DistID_Area018', -87.0319833935351),\n",
       " ('DistID_Area019', -682.990242608833),\n",
       " ('DistID_Area027', 750.6819736773297),\n",
       " ('DistID_Area035', 159.6768944917089),\n",
       " ('DistID_Area045', -34.236549986524246),\n",
       " ('DistID_Area046', 356.3236305295913),\n",
       " ('Active_Since_1983', 67.69173106849645),\n",
       " ('Active_Since_1985', 65.47282427507506),\n",
       " ('Active_Since_1995', 356.3236305295909),\n",
       " ('Active_Since_1996', -559.410392808491),\n",
       " ('Active_Since_1997', -21.391910250576636),\n",
       " ('Active_Since_2000', -34.23654998652447),\n",
       " ('Active_Since_2002', 159.67689449170797),\n",
       " ('Active_Since_2005', 52.90575607426417),\n",
       " ('Medicine_Type_Analgesics', 65.67860936360616),\n",
       " ('Medicine_Type_Antacids', 69.87977083787172),\n",
       " ('Medicine_Type_Antibiotics', 142.79023664945404),\n",
       " ('Medicine_Type_Antifungal', 68.40991993566853),\n",
       " ('Medicine_Type_Antimalarial', 78.84271607259672),\n",
       " ('Medicine_Type_Antipyretics', 14.296052331214387),\n",
       " ('Medicine_Type_Antiseptics', 48.38037597227008),\n",
       " ('Medicine_Type_Antiviral', 433.88984089078497),\n",
       " ('Medicine_Type_Cardiac', 153.4842251189008),\n",
       " ('Medicine_Type_Hreplacements', 43.9916554903657),\n",
       " ('Medicine_Type_Mstablizers', 62.58148888746541),\n",
       " ('Medicine_Type_MuscleRelaxants', 176.69541934380896),\n",
       " ('Medicine_Type_OralContraceptives', 75.9124047703061),\n",
       " ('Medicine_Type_Statins', 137.12903771728776),\n",
       " ('Medicine_Type_Stimulants', 113.20203417061374),\n",
       " ('Area_Type_CityLimits', 750.6819736773299),\n",
       " ('Area_Type_DownTown', 578.7506451335227),\n",
       " ('Area_Type_Industrial', -87.03198339352655),\n",
       " ('Area_City_Type_Tier 1', -348.05852232982755),\n",
       " ('Area_City_Type_Tier 2', 178.34610057943738),\n",
       " ('Area_dist_level_High', 65.47282427507443),\n",
       " ('Area_dist_level_Medium', 642.2580800332171),\n",
       " ('Area_dist_level_Small', -166.9897175875393)]"
      ]
     },
     "execution_count": 63,
     "metadata": {},
     "output_type": "execute_result"
    }
   ],
   "source": [
    "features=x_train.columns\n",
    "list(zip(features,coefs))"
   ]
  },
  {
   "cell_type": "code",
   "execution_count": 64,
   "metadata": {},
   "outputs": [],
   "source": [
    "# Finding best value of penalty weight with cross validation for ridge regression\n",
    "alphas=np.linspace(1,10,100)\n",
    "# We need to reset index for cross validation to work without hitch\n",
    "x_train.reset_index(drop=True,inplace=True)\n",
    "y_train.reset_index(drop=True,inplace=True)"
   ]
  },
  {
   "cell_type": "code",
   "execution_count": 70,
   "metadata": {},
   "outputs": [
    {
     "name": "stdout",
     "output_type": "stream",
     "text": [
      "1.000\t 33.382177\t \n",
      "1.091\t 33.382094\t \n",
      "1.182\t 33.382012\t \n",
      "1.273\t 33.381930\t \n",
      "1.364\t 33.381850\t \n",
      "1.455\t 33.381770\t \n",
      "1.545\t 33.381692\t \n",
      "1.636\t 33.381614\t \n",
      "1.727\t 33.381537\t \n",
      "1.818\t 33.381461\t \n",
      "1.909\t 33.381386\t \n",
      "2.000\t 33.381311\t \n",
      "2.091\t 33.381238\t \n",
      "2.182\t 33.381165\t \n",
      "2.273\t 33.381093\t \n",
      "2.364\t 33.381022\t \n",
      "2.455\t 33.380951\t \n",
      "2.545\t 33.380881\t \n",
      "2.636\t 33.380812\t \n",
      "2.727\t 33.380743\t \n",
      "2.818\t 33.380676\t \n",
      "2.909\t 33.380609\t \n",
      "3.000\t 33.380542\t \n",
      "3.091\t 33.380476\t \n",
      "3.182\t 33.380411\t \n",
      "3.273\t 33.380347\t \n",
      "3.364\t 33.380283\t \n",
      "3.455\t 33.380220\t \n",
      "3.545\t 33.380157\t \n",
      "3.636\t 33.380095\t \n",
      "3.727\t 33.380033\t \n",
      "3.818\t 33.379973\t \n",
      "3.909\t 33.379912\t \n",
      "4.000\t 33.379852\t \n",
      "4.091\t 33.379793\t \n",
      "4.182\t 33.379735\t \n",
      "4.273\t 33.379676\t \n",
      "4.364\t 33.379619\t \n",
      "4.455\t 33.379562\t \n",
      "4.545\t 33.379505\t \n",
      "4.636\t 33.379449\t \n",
      "4.727\t 33.379393\t \n",
      "4.818\t 33.379338\t \n",
      "4.909\t 33.379284\t \n",
      "5.000\t 33.379229\t \n",
      "5.091\t 33.379176\t \n",
      "5.182\t 33.379122\t \n",
      "5.273\t 33.379070\t \n",
      "5.364\t 33.379017\t \n",
      "5.455\t 33.378965\t \n",
      "5.545\t 33.378914\t \n",
      "5.636\t 33.378863\t \n",
      "5.727\t 33.378812\t \n",
      "5.818\t 33.378762\t \n",
      "5.909\t 33.378712\t \n",
      "6.000\t 33.378663\t \n",
      "6.091\t 33.378614\t \n",
      "6.182\t 33.378566\t \n",
      "6.273\t 33.378518\t \n",
      "6.364\t 33.378470\t \n",
      "6.455\t 33.378422\t \n",
      "6.545\t 33.378375\t \n",
      "6.636\t 33.378329\t \n",
      "6.727\t 33.378283\t \n",
      "6.818\t 33.378237\t \n",
      "6.909\t 33.378191\t \n",
      "7.000\t 33.378146\t \n",
      "7.091\t 33.378102\t \n",
      "7.182\t 33.378057\t \n",
      "7.273\t 33.378013\t \n",
      "7.364\t 33.377969\t \n",
      "7.455\t 33.377926\t \n",
      "7.545\t 33.377883\t \n",
      "7.636\t 33.377840\t \n",
      "7.727\t 33.377798\t \n",
      "7.818\t 33.377756\t \n",
      "7.909\t 33.377714\t \n",
      "8.000\t 33.377673\t \n",
      "8.091\t 33.377632\t \n",
      "8.182\t 33.377591\t \n",
      "8.273\t 33.377551\t \n",
      "8.364\t 33.377511\t \n",
      "8.455\t 33.377471\t \n",
      "8.545\t 33.377431\t \n",
      "8.636\t 33.377392\t \n",
      "8.727\t 33.377353\t \n",
      "8.818\t 33.377315\t \n",
      "8.909\t 33.377276\t \n",
      "9.000\t 33.377238\t \n",
      "9.091\t 33.377201\t \n",
      "9.182\t 33.377163\t \n",
      "9.273\t 33.377126\t \n",
      "9.364\t 33.377089\t \n",
      "9.455\t 33.377053\t \n",
      "9.545\t 33.377016\t \n",
      "9.636\t 33.376980\t \n",
      "9.727\t 33.376945\t \n",
      "9.818\t 33.376909\t \n",
      "9.909\t 33.376874\t \n",
      "10.000\t 33.376839\t \n",
      "Alpha with min 10cv error is :  [10.]\n"
     ]
    }
   ],
   "source": [
    "rmse_list=[]\n",
    "for a in alphas:\n",
    "    ridge = Ridge(fit_intercept=True, alpha=a)\n",
    "\n",
    "    # computing average RMSE across 10-fold cross validation\n",
    "    kf = KFold(n_splits=10)\n",
    "    xval_err = 0\n",
    "    for train_index, test_index in kf.split(x_train):\n",
    "#         print(test_index.shape)\n",
    "        X_train, X_test = x_train.iloc[train_index], x_train.iloc[test_index]\n",
    "        Y_train, Y_test = y_train.iloc[train_index], y_train.iloc[test_index]\n",
    "        ridge.fit(X_train,Y_train)\n",
    "        p = ridge.predict(X_test)\n",
    "        err = p - Y_test\n",
    "        xval_err += np.sqrt(np.dot(err,err)/len(X_test))\n",
    "#         print(xval_err)\n",
    "    rmse_10cv = np.sqrt(xval_err/kf.n_splits)\n",
    "    # uncomment below to print rmse values for individidual alphas\n",
    "    print('{:.3f}\\t {:.6f}\\t '.format(a,rmse_10cv))\n",
    "    rmse_list.extend([rmse_10cv])\n",
    "best_alpha=alphas[rmse_list==min(rmse_list)]\n",
    "print('Alpha with min 10cv error is : ',best_alpha )"
   ]
  },
  {
   "cell_type": "code",
   "execution_count": 71,
   "metadata": {},
   "outputs": [
    {
     "data": {
      "text/plain": [
       "1132.0408822953655"
      ]
     },
     "execution_count": 71,
     "metadata": {},
     "output_type": "execute_result"
    }
   ],
   "source": [
    "ridge=Ridge(fit_intercept=True,alpha=best_alpha)\n",
    "\n",
    "ridge.fit(x_train,y_train)\n",
    "\n",
    "p_test=ridge.predict(x_test)\n",
    "\n",
    "residual=p_test-y_test\n",
    "\n",
    "rmse_ridge=np.sqrt(np.dot(residual,residual)/len(p_test))\n",
    "\n",
    "rmse_ridge"
   ]
  },
  {
   "cell_type": "code",
   "execution_count": 72,
   "metadata": {},
   "outputs": [
    {
     "data": {
      "text/plain": [
       "828.9669827690674"
      ]
     },
     "execution_count": 72,
     "metadata": {},
     "output_type": "execute_result"
    }
   ],
   "source": [
    "MAE=mean_absolute_error(y_test,p_test)\n",
    "MAE"
   ]
  },
  {
   "cell_type": "code",
   "execution_count": 73,
   "metadata": {},
   "outputs": [
    {
     "data": {
      "text/plain": [
       "0.5006222995367064"
      ]
     },
     "execution_count": 73,
     "metadata": {},
     "output_type": "execute_result"
    }
   ],
   "source": [
    "Score=1-(MAE/1660)\n",
    "Score"
   ]
  },
  {
   "cell_type": "code",
   "execution_count": 74,
   "metadata": {},
   "outputs": [
    {
     "data": {
      "text/plain": [
       "[('Counterfeit_Weight', -4.764886518194794),\n",
       " ('Medicine_MRP', 15.428773458557595),\n",
       " ('SidEffect_Level', -2.125402021056202),\n",
       " ('Availability_rating', -173.57782619740294),\n",
       " ('DistID_Area010', -556.2474916309405),\n",
       " ('DistID_Area013', 65.02777123838746),\n",
       " ('DistID_Area017', 52.644570936693135),\n",
       " ('DistID_Area018', -86.30509573581683),\n",
       " ('DistID_Area019', -676.1889359341482),\n",
       " ('DistID_Area027', 744.2372379115773),\n",
       " ('DistID_Area035', 158.44002177036919),\n",
       " ('DistID_Area045', -33.36274704630654),\n",
       " ('DistID_Area046', 351.4409805585449),\n",
       " ('Active_Since_1983', 68.04830197730529),\n",
       " ('Active_Since_1985', 65.02777123838588),\n",
       " ('Active_Since_1995', 351.44098055854613),\n",
       " ('Active_Since_1996', -556.2474916309108),\n",
       " ('Active_Since_1997', -19.686312068234272),\n",
       " ('Active_Since_2000', -33.36274704629096),\n",
       " ('Active_Since_2002', 158.44002177031504),\n",
       " ('Active_Since_2005', 52.644570936709755),\n",
       " ('Medicine_Type_Analgesics', 30.718274689315553),\n",
       " ('Medicine_Type_Antacids', 32.979767280097576),\n",
       " ('Medicine_Type_Antibiotics', 106.14936537560784),\n",
       " ('Medicine_Type_Antifungal', 31.54847100696059),\n",
       " ('Medicine_Type_Antimalarial', 42.613171059426435),\n",
       " ('Medicine_Type_Antipyretics', -20.715226292398448),\n",
       " ('Medicine_Type_Antiseptics', 16.04684043161271),\n",
       " ('Medicine_Type_Antiviral', 317.87818734142377),\n",
       " ('Medicine_Type_Cardiac', 116.06505087598127),\n",
       " ('Medicine_Type_Hreplacements', 9.703044298399927),\n",
       " ('Medicine_Type_Mstablizers', 26.987787529715664),\n",
       " ('Medicine_Type_MuscleRelaxants', 130.5243330366999),\n",
       " ('Medicine_Type_OralContraceptives', 40.8706819342947),\n",
       " ('Medicine_Type_Statins', 97.40474096027673),\n",
       " ('Medicine_Type_Stimulants', 66.05933929483253),\n",
       " ('Area_Type_CityLimits', 744.2372379113569),\n",
       " ('Area_Type_DownTown', 574.5042853895701),\n",
       " ('Area_Type_Industrial', -86.305095735746),\n",
       " ('Area_City_Type_Tier 1', -344.4342674438496),\n",
       " ('Area_City_Type_Tier 2', 177.72184566074708),\n",
       " ('Area_dist_level_High', 65.02777123838712),\n",
       " ('Area_dist_level_Medium', 638.2458301076211),\n",
       " ('Area_dist_level_Small', -166.30793360524018)]"
      ]
     },
     "execution_count": 74,
     "metadata": {},
     "output_type": "execute_result"
    }
   ],
   "source": [
    "list(zip(x_train.columns,ridge.coef_))"
   ]
  },
  {
   "cell_type": "code",
   "execution_count": 75,
   "metadata": {},
   "outputs": [
    {
     "name": "stdout",
     "output_type": "stream",
     "text": [
      "0.00001\t 1.429453\t \n",
      "0.00011\t 1.429453\t \n",
      "0.00021\t 1.429453\t \n",
      "0.00031\t 1.429453\t \n",
      "0.00041\t 1.429453\t \n",
      "0.00051\t 1.429453\t \n",
      "0.00062\t 1.429453\t \n",
      "0.00072\t 1.429453\t \n",
      "0.00082\t 1.429453\t \n",
      "0.00092\t 1.429453\t \n",
      "0.00102\t 1.429453\t \n",
      "0.00112\t 1.429453\t \n",
      "0.00122\t 1.429453\t \n",
      "0.00132\t 1.429453\t \n",
      "0.00142\t 1.429452\t \n",
      "0.00152\t 1.429452\t \n",
      "0.00162\t 1.429452\t \n",
      "0.00173\t 1.429452\t \n",
      "0.00183\t 1.429452\t \n",
      "0.00193\t 1.429452\t \n",
      "0.00203\t 1.429452\t \n",
      "0.00213\t 1.429452\t \n",
      "0.00223\t 1.429452\t \n",
      "0.00233\t 1.429452\t \n",
      "0.00243\t 1.429452\t \n",
      "0.00253\t 1.429452\t \n",
      "0.00263\t 1.429452\t \n",
      "0.00273\t 1.429452\t \n",
      "0.00284\t 1.429452\t \n",
      "0.00294\t 1.429452\t \n",
      "0.00304\t 1.429452\t \n",
      "0.00314\t 1.429452\t \n",
      "0.00324\t 1.429452\t \n",
      "0.00334\t 1.429452\t \n",
      "0.00344\t 1.429452\t \n",
      "0.00354\t 1.429451\t \n",
      "0.00364\t 1.429451\t \n",
      "0.00374\t 1.429451\t \n",
      "0.00384\t 1.429451\t \n",
      "0.00395\t 1.429451\t \n",
      "0.00405\t 1.429451\t \n",
      "0.00415\t 1.429451\t \n",
      "0.00425\t 1.429451\t \n",
      "0.00435\t 1.429451\t \n",
      "0.00445\t 1.429451\t \n",
      "0.00455\t 1.429451\t \n",
      "0.00465\t 1.429451\t \n",
      "0.00475\t 1.429451\t \n",
      "0.00485\t 1.429451\t \n",
      "0.00495\t 1.429451\t \n",
      "0.00506\t 1.429451\t \n",
      "0.00516\t 1.429451\t \n",
      "0.00526\t 1.429451\t \n",
      "0.00536\t 1.429451\t \n",
      "0.00546\t 1.429451\t \n",
      "0.00556\t 1.429451\t \n",
      "0.00566\t 1.429451\t \n",
      "0.00576\t 1.429451\t \n",
      "0.00586\t 1.429451\t \n",
      "0.00596\t 1.429450\t \n",
      "0.00606\t 1.429450\t \n",
      "0.00617\t 1.429450\t \n",
      "0.00627\t 1.429450\t \n",
      "0.00637\t 1.429450\t \n",
      "0.00647\t 1.429450\t \n",
      "0.00657\t 1.429450\t \n"
     ]
    },
    {
     "ename": "KeyboardInterrupt",
     "evalue": "",
     "output_type": "error",
     "traceback": [
      "\u001b[1;31m---------------------------------------------------------------------------\u001b[0m",
      "\u001b[1;31mKeyboardInterrupt\u001b[0m                         Traceback (most recent call last)",
      "\u001b[1;32m<ipython-input-75-055d2758772c>\u001b[0m in \u001b[0;36m<module>\u001b[1;34m\u001b[0m\n\u001b[0;32m     11\u001b[0m         \u001b[0mX_train\u001b[0m\u001b[1;33m,\u001b[0m \u001b[0mX_test\u001b[0m \u001b[1;33m=\u001b[0m \u001b[0mx_train\u001b[0m\u001b[1;33m.\u001b[0m\u001b[0miloc\u001b[0m\u001b[1;33m[\u001b[0m\u001b[0mtrain_index\u001b[0m\u001b[1;33m]\u001b[0m\u001b[1;33m,\u001b[0m \u001b[0mx_train\u001b[0m\u001b[1;33m.\u001b[0m\u001b[0miloc\u001b[0m\u001b[1;33m[\u001b[0m\u001b[0mtest_index\u001b[0m\u001b[1;33m]\u001b[0m\u001b[1;33m\u001b[0m\u001b[1;33m\u001b[0m\u001b[0m\n\u001b[0;32m     12\u001b[0m         \u001b[0mY_train\u001b[0m\u001b[1;33m,\u001b[0m \u001b[0mY_test\u001b[0m \u001b[1;33m=\u001b[0m \u001b[0my_train\u001b[0m\u001b[1;33m.\u001b[0m\u001b[0miloc\u001b[0m\u001b[1;33m[\u001b[0m\u001b[0mtrain_index\u001b[0m\u001b[1;33m]\u001b[0m\u001b[1;33m,\u001b[0m \u001b[0my_train\u001b[0m\u001b[1;33m.\u001b[0m\u001b[0miloc\u001b[0m\u001b[1;33m[\u001b[0m\u001b[0mtest_index\u001b[0m\u001b[1;33m]\u001b[0m\u001b[1;33m\u001b[0m\u001b[1;33m\u001b[0m\u001b[0m\n\u001b[1;32m---> 13\u001b[1;33m         \u001b[0mlasso\u001b[0m\u001b[1;33m.\u001b[0m\u001b[0mfit\u001b[0m\u001b[1;33m(\u001b[0m\u001b[0mX_train\u001b[0m\u001b[1;33m,\u001b[0m\u001b[0mY_train\u001b[0m\u001b[1;33m)\u001b[0m\u001b[1;33m\u001b[0m\u001b[1;33m\u001b[0m\u001b[0m\n\u001b[0m\u001b[0;32m     14\u001b[0m         \u001b[0mp\u001b[0m \u001b[1;33m=\u001b[0m \u001b[0mlasso\u001b[0m\u001b[1;33m.\u001b[0m\u001b[0mpredict\u001b[0m\u001b[1;33m(\u001b[0m\u001b[0mX_test\u001b[0m\u001b[1;33m)\u001b[0m\u001b[1;33m\u001b[0m\u001b[1;33m\u001b[0m\u001b[0m\n\u001b[0;32m     15\u001b[0m         \u001b[0merr\u001b[0m \u001b[1;33m=\u001b[0m \u001b[0mp\u001b[0m \u001b[1;33m-\u001b[0m \u001b[0mY_test\u001b[0m\u001b[1;33m\u001b[0m\u001b[1;33m\u001b[0m\u001b[0m\n",
      "\u001b[1;32m~\\Anaconda3\\lib\\site-packages\\sklearn\\linear_model\\coordinate_descent.py\u001b[0m in \u001b[0;36mfit\u001b[1;34m(self, X, y, check_input)\u001b[0m\n\u001b[0;32m    750\u001b[0m                           \u001b[0mrandom_state\u001b[0m\u001b[1;33m=\u001b[0m\u001b[0mself\u001b[0m\u001b[1;33m.\u001b[0m\u001b[0mrandom_state\u001b[0m\u001b[1;33m,\u001b[0m\u001b[1;33m\u001b[0m\u001b[1;33m\u001b[0m\u001b[0m\n\u001b[0;32m    751\u001b[0m                           \u001b[0mselection\u001b[0m\u001b[1;33m=\u001b[0m\u001b[0mself\u001b[0m\u001b[1;33m.\u001b[0m\u001b[0mselection\u001b[0m\u001b[1;33m,\u001b[0m\u001b[1;33m\u001b[0m\u001b[1;33m\u001b[0m\u001b[0m\n\u001b[1;32m--> 752\u001b[1;33m                           check_input=False)\n\u001b[0m\u001b[0;32m    753\u001b[0m             \u001b[0mcoef_\u001b[0m\u001b[1;33m[\u001b[0m\u001b[0mk\u001b[0m\u001b[1;33m]\u001b[0m \u001b[1;33m=\u001b[0m \u001b[0mthis_coef\u001b[0m\u001b[1;33m[\u001b[0m\u001b[1;33m:\u001b[0m\u001b[1;33m,\u001b[0m \u001b[1;36m0\u001b[0m\u001b[1;33m]\u001b[0m\u001b[1;33m\u001b[0m\u001b[1;33m\u001b[0m\u001b[0m\n\u001b[0;32m    754\u001b[0m             \u001b[0mdual_gaps_\u001b[0m\u001b[1;33m[\u001b[0m\u001b[0mk\u001b[0m\u001b[1;33m]\u001b[0m \u001b[1;33m=\u001b[0m \u001b[0mthis_dual_gap\u001b[0m\u001b[1;33m[\u001b[0m\u001b[1;36m0\u001b[0m\u001b[1;33m]\u001b[0m\u001b[1;33m\u001b[0m\u001b[1;33m\u001b[0m\u001b[0m\n",
      "\u001b[1;32m~\\Anaconda3\\lib\\site-packages\\sklearn\\linear_model\\coordinate_descent.py\u001b[0m in \u001b[0;36menet_path\u001b[1;34m(X, y, l1_ratio, eps, n_alphas, alphas, precompute, Xy, copy_X, coef_init, verbose, return_n_iter, positive, check_input, **params)\u001b[0m\n\u001b[0;32m    473\u001b[0m             model = cd_fast.enet_coordinate_descent(\n\u001b[0;32m    474\u001b[0m                 \u001b[0mcoef_\u001b[0m\u001b[1;33m,\u001b[0m \u001b[0ml1_reg\u001b[0m\u001b[1;33m,\u001b[0m \u001b[0ml2_reg\u001b[0m\u001b[1;33m,\u001b[0m \u001b[0mX\u001b[0m\u001b[1;33m,\u001b[0m \u001b[0my\u001b[0m\u001b[1;33m,\u001b[0m \u001b[0mmax_iter\u001b[0m\u001b[1;33m,\u001b[0m \u001b[0mtol\u001b[0m\u001b[1;33m,\u001b[0m \u001b[0mrng\u001b[0m\u001b[1;33m,\u001b[0m \u001b[0mrandom\u001b[0m\u001b[1;33m,\u001b[0m\u001b[1;33m\u001b[0m\u001b[1;33m\u001b[0m\u001b[0m\n\u001b[1;32m--> 475\u001b[1;33m                 positive)\n\u001b[0m\u001b[0;32m    476\u001b[0m         \u001b[1;32melse\u001b[0m\u001b[1;33m:\u001b[0m\u001b[1;33m\u001b[0m\u001b[1;33m\u001b[0m\u001b[0m\n\u001b[0;32m    477\u001b[0m             raise ValueError(\"Precompute should be one of True, False, \"\n",
      "\u001b[1;32msklearn\\linear_model\\cd_fast.pyx\u001b[0m in \u001b[0;36msklearn.linear_model.cd_fast.enet_coordinate_descent\u001b[1;34m()\u001b[0m\n",
      "\u001b[1;31mKeyboardInterrupt\u001b[0m: "
     ]
    }
   ],
   "source": [
    "alphas=np.linspace(0.00001,.01,100)\n",
    "rmse_list=[]\n",
    "for a in alphas:\n",
    "    lasso = Lasso(fit_intercept=True, alpha=a,max_iter=10000)\n",
    "\n",
    "    # computing RMSE using 10-fold cross validation\n",
    "    kf = KFold(n_splits=10)\n",
    "    xval_err = 0\n",
    "    for train_index, test_index in kf.split(x_train):\n",
    "#         print(test_index.shape)\n",
    "        X_train, X_test = x_train.iloc[train_index], x_train.iloc[test_index]\n",
    "        Y_train, Y_test = y_train.iloc[train_index], y_train.iloc[test_index]\n",
    "        lasso.fit(X_train,Y_train)\n",
    "        p = lasso.predict(X_test)\n",
    "        err = p - Y_test\n",
    "        xval_err += np.sqrt(np.dot(err,err)/len(X_test))\n",
    "    rmse_10cv = np.sqrt(xval_err/len(x_train))\n",
    "    rmse_list.extend([rmse_10cv])\n",
    "    # Uncomment below to print rmse values of individual alphas\n",
    "    print('{:.5f}\\t {:.6f}\\t '.format(a,rmse_10cv))\n",
    "best_alpha=alphas[rmse_list==min(rmse_list)]\n",
    "print('Alpha with min 10cv error is : ',best_alpha )"
   ]
  },
  {
   "cell_type": "code",
   "execution_count": null,
   "metadata": {},
   "outputs": [],
   "source": [
    "lasso=Lasso(fit_intercept=True,alpha=best_alpha)\n",
    "\n",
    "lasso.fit(x_train,y_train)\n",
    "\n",
    "p_test=lasso.predict(x_test)\n",
    "\n",
    "residual=p_test-y_test\n",
    "\n",
    "rmse_lasso=np.sqrt(np.dot(residual,residual)/len(p_test))\n",
    "\n",
    "rmse_lasso"
   ]
  },
  {
   "cell_type": "code",
   "execution_count": null,
   "metadata": {},
   "outputs": [],
   "source": [
    "MAE=mean_absolute_error(y_test,p_test)\n",
    "MAE"
   ]
  },
  {
   "cell_type": "code",
   "execution_count": null,
   "metadata": {},
   "outputs": [],
   "source": [
    "Score=1-(MAE/1660)\n",
    "Score"
   ]
  },
  {
   "cell_type": "code",
   "execution_count": null,
   "metadata": {},
   "outputs": [],
   "source": [
    "list(zip(x_train.columns,lasso.coef_))"
   ]
  },
  {
   "cell_type": "code",
   "execution_count": null,
   "metadata": {},
   "outputs": [],
   "source": [
    "SidEffect_Level,Availability_rating,DistID_Area013,DistID_Area017,DistID_Area018,DistID_Area046,Active_Since_1983,\n",
    "Active_Since_1985,Active_Since_1995,Active_Since_1996,Active_Since_1997,Medicine_Type_Analgesics,Medicine_Type_Antacids,\n",
    "Medicine_Type_Antifungal,Medicine_Type_Antimalarial,Medicine_Type_Antiseptics,Medicine_Type_Antiviral,Medicine_Type_Mstablizers,\n",
    "Medicine_Type_MuscleRelaxants,Medicine_Type_OralContraceptives,Medicine_Type_Statins,Medicine_Type_Stimulants,\n",
    "Area_Type_Industrial,Area_City_Type_Tier 1,Area_City_Type_Tier 2,Area_dist_level_High,Area_dist_level_Small"
   ]
  },
  {
   "cell_type": "code",
   "execution_count": 201,
   "metadata": {},
   "outputs": [],
   "source": [
    "for col in ['SidEffect_Level','Availability_rating','DistID_Area013','DistID_Area017','DistID_Area018','DistID_Area046',\n",
    "            'Active_Since_1983','Active_Since_1985','Active_Since_1995','Active_Since_1996','Active_Since_1997',\n",
    "            'Medicine_Type_Analgesics','Medicine_Type_Antacids','Medicine_Type_Antifungal','Medicine_Type_Antimalarial',\n",
    "            'Medicine_Type_Antiseptics','Medicine_Type_Antiviral','Medicine_Type_Mstablizers','Medicine_Type_MuscleRelaxants',\n",
    "            'Medicine_Type_OralContraceptives','Medicine_Type_Statins','Medicine_Type_Stimulants','Area_Type_Industrial',\n",
    "            'Area_City_Type_Tier 1','Area_City_Type_Tier 2','Area_dist_level_High','Area_dist_level_Small']:\n",
    "    cd_train.drop([col],1,inplace=True)\n",
    "    cd_test.drop([col],1,inplace=True)"
   ]
  },
  {
   "cell_type": "code",
   "execution_count": 202,
   "metadata": {},
   "outputs": [],
   "source": [
    "bd_train, bd_test = train_test_split(cd_train, test_size = 0.2,random_state=2)"
   ]
  },
  {
   "cell_type": "code",
   "execution_count": 203,
   "metadata": {},
   "outputs": [],
   "source": [
    "x_train=bd_train.drop(['Counterfeit_Sales'],1)\n",
    "y_train=bd_train['Counterfeit_Sales']\n",
    "x_test=bd_test.drop(['Counterfeit_Sales'],1)\n",
    "y_test=bd_test['Counterfeit_Sales']"
   ]
  },
  {
   "cell_type": "code",
   "execution_count": 204,
   "metadata": {},
   "outputs": [
    {
     "data": {
      "text/plain": [
       "1131.398343466989"
      ]
     },
     "execution_count": 204,
     "metadata": {},
     "output_type": "execute_result"
    }
   ],
   "source": [
    "lm=LinearRegression()\n",
    "\n",
    "lm.fit(x_train,y_train)\n",
    "\n",
    "p_test=lm.predict(x_test)\n",
    "\n",
    "residual=p_test-y_test\n",
    "\n",
    "rmse_lm=np.sqrt(np.dot(residual,residual)/len(p_test))\n",
    "\n",
    "rmse_lm"
   ]
  },
  {
   "cell_type": "code",
   "execution_count": 205,
   "metadata": {},
   "outputs": [
    {
     "data": {
      "text/plain": [
       "828.0819065035519"
      ]
     },
     "execution_count": 205,
     "metadata": {},
     "output_type": "execute_result"
    }
   ],
   "source": [
    "MAE=mean_absolute_error(y_test,p_test)\n",
    "MAE"
   ]
  },
  {
   "cell_type": "code",
   "execution_count": 206,
   "metadata": {},
   "outputs": [
    {
     "data": {
      "text/plain": [
       "0.5011554780099086"
      ]
     },
     "execution_count": 206,
     "metadata": {},
     "output_type": "execute_result"
    }
   ],
   "source": [
    "Score=1-(MAE/1660)\n",
    "Score"
   ]
  },
  {
   "cell_type": "code",
   "execution_count": 207,
   "metadata": {},
   "outputs": [
    {
     "data": {
      "text/plain": [
       "0.18425800579261697"
      ]
     },
     "execution_count": 207,
     "metadata": {},
     "output_type": "execute_result"
    }
   ],
   "source": [
    "r2_score(p_test,y_test)"
   ]
  },
  {
   "cell_type": "code",
   "execution_count": 208,
   "metadata": {},
   "outputs": [
    {
     "data": {
      "text/plain": [
       "array([   -4.70023393,    15.4277747 , -1522.45485751, -1528.35749399,\n",
       "         871.91989041,    67.5733135 ,   -42.25644848,   -42.25644848,\n",
       "          67.5733135 ,    86.41872445,    69.32024784,   -59.799884  ,\n",
       "          80.7471455 ,   -28.66114684,   871.91989041,   385.96630974,\n",
       "          79.3331525 ])"
      ]
     },
     "execution_count": 208,
     "metadata": {},
     "output_type": "execute_result"
    }
   ],
   "source": [
    "coefs=lm.coef_\n",
    "coefs"
   ]
  },
  {
   "cell_type": "code",
   "execution_count": 209,
   "metadata": {},
   "outputs": [
    {
     "data": {
      "text/plain": [
       "-286.712275230434"
      ]
     },
     "execution_count": 209,
     "metadata": {},
     "output_type": "execute_result"
    }
   ],
   "source": [
    "lm.intercept_"
   ]
  },
  {
   "cell_type": "code",
   "execution_count": 210,
   "metadata": {},
   "outputs": [
    {
     "data": {
      "text/plain": [
       "[('Counterfeit_Weight', -4.700233925328349),\n",
       " ('Medicine_MRP', 15.427774701897402),\n",
       " ('DistID_Area010', -1522.4548575059937),\n",
       " ('DistID_Area019', -1528.3574939940302),\n",
       " ('DistID_Area027', 871.9198904069782),\n",
       " ('DistID_Area035', 67.57331349762131),\n",
       " ('DistID_Area045', -42.25644848171269),\n",
       " ('Active_Since_2000', -42.25644848171428),\n",
       " ('Active_Since_2002', 67.57331349762151),\n",
       " ('Active_Since_2005', 86.41872444632662),\n",
       " ('Medicine_Type_Antibiotics', 69.32024783771237),\n",
       " ('Medicine_Type_Antipyretics', -59.79988399728084),\n",
       " ('Medicine_Type_Cardiac', 80.74714550217428),\n",
       " ('Medicine_Type_Hreplacements', -28.66114683638331),\n",
       " ('Area_Type_CityLimits', 871.9198904069787),\n",
       " ('Area_Type_DownTown', 385.9663097449209),\n",
       " ('Area_dist_level_Medium', 79.33315250158594)]"
      ]
     },
     "execution_count": 210,
     "metadata": {},
     "output_type": "execute_result"
    }
   ],
   "source": [
    "features=x_train.columns\n",
    "list(zip(features,coefs))"
   ]
  },
  {
   "cell_type": "code",
   "execution_count": 30,
   "metadata": {},
   "outputs": [],
   "source": [
    "#decision tree\n",
    "from sklearn import tree\n",
    "import pydotplus"
   ]
  },
  {
   "cell_type": "code",
   "execution_count": 31,
   "metadata": {},
   "outputs": [],
   "source": [
    "x_train.reset_index(drop=True,inplace=True)\n",
    "y_train.reset_index(drop=True,inplace=True)"
   ]
  },
  {
   "cell_type": "code",
   "execution_count": 58,
   "metadata": {},
   "outputs": [],
   "source": [
    "dtree=tree.DecisionTreeRegressor(criterion=\"mse\",max_leaf_nodes=10)\n",
    "#class_weight=\"balanced\""
   ]
  },
  {
   "cell_type": "code",
   "execution_count": 59,
   "metadata": {},
   "outputs": [
    {
     "data": {
      "text/plain": [
       "DecisionTreeRegressor(criterion='mse', max_depth=None, max_features=None,\n",
       "                      max_leaf_nodes=10, min_impurity_decrease=0.0,\n",
       "                      min_impurity_split=None, min_samples_leaf=1,\n",
       "                      min_samples_split=2, min_weight_fraction_leaf=0.0,\n",
       "                      presort=False, random_state=None, splitter='best')"
      ]
     },
     "execution_count": 59,
     "metadata": {},
     "output_type": "execute_result"
    }
   ],
   "source": [
    "dtree.fit(x_train,y_train)"
   ]
  },
  {
   "cell_type": "code",
   "execution_count": 60,
   "metadata": {},
   "outputs": [
    {
     "data": {
      "text/plain": [
       "DecisionTreeRegressor(criterion='mse', max_depth=None, max_features=None,\n",
       "                      max_leaf_nodes=10, min_impurity_decrease=0.0,\n",
       "                      min_impurity_split=None, min_samples_leaf=1,\n",
       "                      min_samples_split=2, min_weight_fraction_leaf=0.0,\n",
       "                      presort=False, random_state=None, splitter='best')"
      ]
     },
     "execution_count": 60,
     "metadata": {},
     "output_type": "execute_result"
    }
   ],
   "source": [
    "dtree"
   ]
  },
  {
   "cell_type": "code",
   "execution_count": 61,
   "metadata": {},
   "outputs": [],
   "source": [
    "dot_data = tree.export_graphviz(dtree,out_file=None,\n",
    "                     feature_names=x_train.columns,\n",
    "                    class_names=[\"0\",\"1\"],\n",
    "                     proportion=True)"
   ]
  },
  {
   "cell_type": "code",
   "execution_count": 62,
   "metadata": {},
   "outputs": [],
   "source": [
    "# Draw graph\n",
    "graph = pydotplus.graph_from_dot_data(dot_data)  "
   ]
  },
  {
   "cell_type": "code",
   "execution_count": 63,
   "metadata": {},
   "outputs": [
    {
     "data": {
      "image/png": "[encoded data removed]",
      "text/plain": [
       "<IPython.core.display.Image object>"
      ]
     },
     "execution_count": 63,
     "metadata": {},
     "output_type": "execute_result"
    }
   ],
   "source": [
    "# Show graph\n",
    "from IPython.display import Image  \n",
    "Image(graph.create_png())"
   ]
  },
  {
   "cell_type": "code",
   "execution_count": 68,
   "metadata": {},
   "outputs": [
    {
     "data": {
      "text/plain": [
       "1158.5490987432092"
      ]
     },
     "execution_count": 68,
     "metadata": {},
     "output_type": "execute_result"
    }
   ],
   "source": [
    "p_test=dtree.predict(x_test)\n",
    "\n",
    "residual=p_test-y_test\n",
    "\n",
    "rmse_lm=np.sqrt(np.dot(residual,residual)/len(p_test))\n",
    "\n",
    "rmse_lm"
   ]
  },
  {
   "cell_type": "code",
   "execution_count": 69,
   "metadata": {},
   "outputs": [
    {
     "data": {
      "text/plain": [
       "837.0875135665601"
      ]
     },
     "execution_count": 69,
     "metadata": {},
     "output_type": "execute_result"
    }
   ],
   "source": [
    "MAE=mean_absolute_error(y_test,p_test)\n",
    "MAE"
   ]
  },
  {
   "cell_type": "code",
   "execution_count": 70,
   "metadata": {},
   "outputs": [
    {
     "data": {
      "text/plain": [
       "0.4957304135141204"
      ]
     },
     "execution_count": 70,
     "metadata": {},
     "output_type": "execute_result"
    }
   ],
   "source": [
    "Score=1-(MAE/1660)\n",
    "Score"
   ]
  },
  {
   "cell_type": "code",
   "execution_count": 71,
   "metadata": {},
   "outputs": [
    {
     "data": {
      "text/plain": [
       "0.13781164666034884"
      ]
     },
     "execution_count": 71,
     "metadata": {},
     "output_type": "execute_result"
    }
   ],
   "source": [
    "r2_score(p_test,y_test)"
   ]
  },
  {
   "cell_type": "code",
   "execution_count": 32,
   "metadata": {},
   "outputs": [],
   "source": [
    "from sklearn.ensemble import RandomForestRegressor\n",
    "# help(RandomForestClassifier)\n",
    "from time import time\n",
    "from operator import itemgetter\n",
    "from scipy.stats import randint as sp_randint\n",
    "from sklearn.model_selection import RandomizedSearchCV"
   ]
  },
  {
   "cell_type": "code",
   "execution_count": 33,
   "metadata": {},
   "outputs": [],
   "source": [
    "# this here is the base classifier we are going to try\n",
    "# we will be supplying different parameter ranges to our randomSearchCV which in turn\n",
    "# will pass it on to this classifier\n",
    "\n",
    "clf = RandomForestRegressor(verbose=1,n_jobs=-1)"
   ]
  },
  {
   "cell_type": "code",
   "execution_count": 34,
   "metadata": {},
   "outputs": [],
   "source": [
    "# RandomSearchCV/GridSearchCV accept parameters values as dictionaries.\n",
    "# In example given below we have constructed dictionary for \n",
    "#different parameter values that we want to\n",
    "# try for randomForest model\n",
    "param_dist = {\"n_estimators\":[10,100,500],\n",
    "              \"max_depth\": [3,5, None],\n",
    "              \"max_features\": sp_randint(5, 11),\n",
    "              \"min_samples_split\": sp_randint(5, 11),\n",
    "              \"min_samples_leaf\": sp_randint(5, 11),\n",
    "              \"bootstrap\": [True, False],\n",
    "              \"criterion\": [\"mse\",\"mae\"]}"
   ]
  },
  {
   "cell_type": "code",
   "execution_count": 35,
   "metadata": {},
   "outputs": [
    {
     "name": "stderr",
     "output_type": "stream",
     "text": [
      "[Parallel(n_jobs=-1)]: Using backend LokyBackend with 4 concurrent workers.\n",
      "[Parallel(n_jobs=-1)]: Done  10 out of  10 | elapsed:    4.5s finished\n",
      "[Parallel(n_jobs=4)]: Using backend ThreadingBackend with 4 concurrent workers.\n",
      "[Parallel(n_jobs=4)]: Done  10 out of  10 | elapsed:    0.0s finished\n",
      "[Parallel(n_jobs=-1)]: Using backend LokyBackend with 4 concurrent workers.\n",
      "[Parallel(n_jobs=-1)]: Done   3 out of  10 | elapsed:    0.0s remaining:    0.0s\n",
      "[Parallel(n_jobs=-1)]: Done  10 out of  10 | elapsed:    0.0s finished\n",
      "[Parallel(n_jobs=4)]: Using backend ThreadingBackend with 4 concurrent workers.\n",
      "[Parallel(n_jobs=4)]: Done  10 out of  10 | elapsed:    0.0s finished\n",
      "[Parallel(n_jobs=-1)]: Using backend LokyBackend with 4 concurrent workers.\n",
      "[Parallel(n_jobs=-1)]: Done   3 out of  10 | elapsed:    0.0s remaining:    0.0s\n",
      "[Parallel(n_jobs=-1)]: Done  10 out of  10 | elapsed:    0.0s finished\n",
      "[Parallel(n_jobs=4)]: Using backend ThreadingBackend with 4 concurrent workers.\n",
      "[Parallel(n_jobs=4)]: Done  10 out of  10 | elapsed:    0.0s finished\n",
      "[Parallel(n_jobs=-1)]: Using backend LokyBackend with 4 concurrent workers.\n",
      "[Parallel(n_jobs=-1)]: Done  10 out of  10 | elapsed:    3.2s finished\n",
      "[Parallel(n_jobs=4)]: Using backend ThreadingBackend with 4 concurrent workers.\n",
      "[Parallel(n_jobs=4)]: Done  10 out of  10 | elapsed:    0.0s finished\n",
      "[Parallel(n_jobs=-1)]: Using backend LokyBackend with 4 concurrent workers.\n",
      "[Parallel(n_jobs=-1)]: Done  10 out of  10 | elapsed:    3.6s finished\n",
      "[Parallel(n_jobs=4)]: Using backend ThreadingBackend with 4 concurrent workers.\n",
      "[Parallel(n_jobs=4)]: Done  10 out of  10 | elapsed:    0.0s finished\n",
      "[Parallel(n_jobs=-1)]: Using backend LokyBackend with 4 concurrent workers.\n",
      "[Parallel(n_jobs=-1)]: Done  10 out of  10 | elapsed:    3.5s finished\n",
      "[Parallel(n_jobs=4)]: Using backend ThreadingBackend with 4 concurrent workers.\n",
      "[Parallel(n_jobs=4)]: Done  10 out of  10 | elapsed:    0.0s finished\n",
      "[Parallel(n_jobs=-1)]: Using backend LokyBackend with 4 concurrent workers.\n",
      "[Parallel(n_jobs=-1)]: Done  42 tasks      | elapsed:   18.9s\n",
      "[Parallel(n_jobs=-1)]: Done 192 tasks      | elapsed:  1.6min\n",
      "[Parallel(n_jobs=-1)]: Done 442 tasks      | elapsed:  3.9min\n",
      "[Parallel(n_jobs=-1)]: Done 500 out of 500 | elapsed:  4.5min finished\n",
      "[Parallel(n_jobs=4)]: Using backend ThreadingBackend with 4 concurrent workers.\n",
      "[Parallel(n_jobs=4)]: Done  42 tasks      | elapsed:    0.0s\n",
      "[Parallel(n_jobs=4)]: Done 192 tasks      | elapsed:    0.1s\n",
      "[Parallel(n_jobs=4)]: Done 442 tasks      | elapsed:    0.3s\n",
      "[Parallel(n_jobs=4)]: Done 500 out of 500 | elapsed:    0.4s finished\n",
      "[Parallel(n_jobs=-1)]: Using backend LokyBackend with 4 concurrent workers.\n",
      "[Parallel(n_jobs=-1)]: Done  42 tasks      | elapsed:   26.0s\n",
      "[Parallel(n_jobs=-1)]: Done 192 tasks      | elapsed:  2.0min\n",
      "[Parallel(n_jobs=-1)]: Done 442 tasks      | elapsed:  5.3min\n",
      "[Parallel(n_jobs=-1)]: Done 500 out of 500 | elapsed:  6.3min finished\n",
      "[Parallel(n_jobs=4)]: Using backend ThreadingBackend with 4 concurrent workers.\n",
      "[Parallel(n_jobs=4)]: Done  42 tasks      | elapsed:    0.0s\n",
      "[Parallel(n_jobs=4)]: Done 192 tasks      | elapsed:    0.3s\n",
      "[Parallel(n_jobs=4)]: Done 442 tasks      | elapsed:    1.0s\n",
      "[Parallel(n_jobs=4)]: Done 500 out of 500 | elapsed:    1.2s finished\n",
      "[Parallel(n_jobs=-1)]: Using backend LokyBackend with 4 concurrent workers.\n",
      "[Parallel(n_jobs=-1)]: Done  42 tasks      | elapsed:   57.7s\n",
      "[Parallel(n_jobs=-1)]: Done 192 tasks      | elapsed:  4.5min\n",
      "[Parallel(n_jobs=-1)]: Done 442 tasks      | elapsed: 13.2min\n",
      "[Parallel(n_jobs=-1)]: Done 500 out of 500 | elapsed: 15.4min finished\n",
      "[Parallel(n_jobs=4)]: Using backend ThreadingBackend with 4 concurrent workers.\n",
      "[Parallel(n_jobs=4)]: Done  42 tasks      | elapsed:    0.1s\n",
      "[Parallel(n_jobs=4)]: Done 192 tasks      | elapsed:    0.5s\n",
      "[Parallel(n_jobs=4)]: Done 442 tasks      | elapsed:    1.4s\n",
      "[Parallel(n_jobs=4)]: Done 500 out of 500 | elapsed:    1.6s finished\n",
      "[Parallel(n_jobs=-1)]: Using backend LokyBackend with 4 concurrent workers.\n",
      "[Parallel(n_jobs=-1)]: Done  42 tasks      | elapsed:  1.8min\n",
      "[Parallel(n_jobs=-1)]: Done 100 out of 100 | elapsed:  4.1min finished\n",
      "[Parallel(n_jobs=4)]: Using backend ThreadingBackend with 4 concurrent workers.\n",
      "[Parallel(n_jobs=4)]: Done  42 tasks      | elapsed:    0.0s\n",
      "[Parallel(n_jobs=4)]: Done 100 out of 100 | elapsed:    0.1s finished\n",
      "[Parallel(n_jobs=-1)]: Using backend LokyBackend with 4 concurrent workers.\n",
      "[Parallel(n_jobs=-1)]: Done  42 tasks      | elapsed:  1.0min\n",
      "[Parallel(n_jobs=-1)]: Done 100 out of 100 | elapsed:  2.5min finished\n",
      "[Parallel(n_jobs=4)]: Using backend ThreadingBackend with 4 concurrent workers.\n",
      "[Parallel(n_jobs=4)]: Done  42 tasks      | elapsed:    0.0s\n",
      "[Parallel(n_jobs=4)]: Done 100 out of 100 | elapsed:    0.1s finished\n",
      "[Parallel(n_jobs=-1)]: Using backend LokyBackend with 4 concurrent workers.\n",
      "[Parallel(n_jobs=-1)]: Done  42 tasks      | elapsed:  1.4min\n",
      "[Parallel(n_jobs=-1)]: Done 100 out of 100 | elapsed:  3.4min finished\n",
      "[Parallel(n_jobs=4)]: Using backend ThreadingBackend with 4 concurrent workers.\n",
      "[Parallel(n_jobs=4)]: Done  42 tasks      | elapsed:    0.1s\n",
      "[Parallel(n_jobs=4)]: Done 100 out of 100 | elapsed:    0.3s finished\n",
      "[Parallel(n_jobs=-1)]: Using backend LokyBackend with 4 concurrent workers.\n",
      "[Parallel(n_jobs=-1)]: Done  42 tasks      | elapsed:   41.9s\n",
      "[Parallel(n_jobs=-1)]: Done 100 out of 100 | elapsed:  1.7min finished\n",
      "[Parallel(n_jobs=4)]: Using backend ThreadingBackend with 4 concurrent workers.\n",
      "[Parallel(n_jobs=4)]: Done  42 tasks      | elapsed:    0.1s\n",
      "[Parallel(n_jobs=4)]: Done 100 out of 100 | elapsed:    0.3s finished\n",
      "[Parallel(n_jobs=-1)]: Using backend LokyBackend with 4 concurrent workers.\n",
      "[Parallel(n_jobs=-1)]: Done  42 tasks      | elapsed:   39.5s\n",
      "[Parallel(n_jobs=-1)]: Done 100 out of 100 | elapsed:  1.7min finished\n",
      "[Parallel(n_jobs=4)]: Using backend ThreadingBackend with 4 concurrent workers.\n",
      "[Parallel(n_jobs=4)]: Done  42 tasks      | elapsed:    0.1s\n",
      "[Parallel(n_jobs=4)]: Done 100 out of 100 | elapsed:    0.4s finished\n",
      "[Parallel(n_jobs=-1)]: Using backend LokyBackend with 4 concurrent workers.\n",
      "[Parallel(n_jobs=-1)]: Done  42 tasks      | elapsed:   40.5s\n",
      "[Parallel(n_jobs=-1)]: Done 100 out of 100 | elapsed:  1.6min finished\n",
      "[Parallel(n_jobs=4)]: Using backend ThreadingBackend with 4 concurrent workers.\n",
      "[Parallel(n_jobs=4)]: Done  42 tasks      | elapsed:    0.1s\n",
      "[Parallel(n_jobs=4)]: Done 100 out of 100 | elapsed:    0.3s finished\n",
      "[Parallel(n_jobs=-1)]: Using backend LokyBackend with 4 concurrent workers.\n",
      "[Parallel(n_jobs=-1)]: Done   3 out of  10 | elapsed:    0.1s remaining:    0.4s\n",
      "[Parallel(n_jobs=-1)]: Done  10 out of  10 | elapsed:    0.4s finished\n",
      "[Parallel(n_jobs=4)]: Using backend ThreadingBackend with 4 concurrent workers.\n",
      "[Parallel(n_jobs=4)]: Done  10 out of  10 | elapsed:    0.0s finished\n",
      "[Parallel(n_jobs=-1)]: Using backend LokyBackend with 4 concurrent workers.\n",
      "[Parallel(n_jobs=-1)]: Done  10 out of  10 | elapsed:    0.6s finished\n",
      "[Parallel(n_jobs=4)]: Using backend ThreadingBackend with 4 concurrent workers.\n",
      "[Parallel(n_jobs=4)]: Done  10 out of  10 | elapsed:    0.0s finished\n",
      "[Parallel(n_jobs=-1)]: Using backend LokyBackend with 4 concurrent workers.\n",
      "[Parallel(n_jobs=-1)]: Done   3 out of  10 | elapsed:    0.2s remaining:    0.5s\n",
      "[Parallel(n_jobs=-1)]: Done  10 out of  10 | elapsed:    0.5s finished\n",
      "[Parallel(n_jobs=4)]: Using backend ThreadingBackend with 4 concurrent workers.\n",
      "[Parallel(n_jobs=4)]: Done  10 out of  10 | elapsed:    0.0s finished\n",
      "[Parallel(n_jobs=-1)]: Using backend LokyBackend with 4 concurrent workers.\n",
      "[Parallel(n_jobs=-1)]: Done  42 tasks      | elapsed:  1.0min\n",
      "[Parallel(n_jobs=-1)]: Done 100 out of 100 | elapsed:  2.3min finished\n",
      "[Parallel(n_jobs=4)]: Using backend ThreadingBackend with 4 concurrent workers.\n",
      "[Parallel(n_jobs=4)]: Done  42 tasks      | elapsed:    0.0s\n",
      "[Parallel(n_jobs=4)]: Done 100 out of 100 | elapsed:    0.2s finished\n",
      "[Parallel(n_jobs=-1)]: Using backend LokyBackend with 4 concurrent workers.\n",
      "[Parallel(n_jobs=-1)]: Done  42 tasks      | elapsed:   55.6s\n",
      "[Parallel(n_jobs=-1)]: Done 100 out of 100 | elapsed:  2.3min finished\n",
      "[Parallel(n_jobs=4)]: Using backend ThreadingBackend with 4 concurrent workers.\n"
     ]
    },
    {
     "name": "stderr",
     "output_type": "stream",
     "text": [
      "[Parallel(n_jobs=4)]: Done  42 tasks      | elapsed:    0.1s\n",
      "[Parallel(n_jobs=4)]: Done 100 out of 100 | elapsed:    0.3s finished\n",
      "[Parallel(n_jobs=-1)]: Using backend LokyBackend with 4 concurrent workers.\n",
      "[Parallel(n_jobs=-1)]: Done  42 tasks      | elapsed:  1.0min\n",
      "[Parallel(n_jobs=-1)]: Done 100 out of 100 | elapsed: 13.7min finished\n",
      "[Parallel(n_jobs=4)]: Using backend ThreadingBackend with 4 concurrent workers.\n",
      "[Parallel(n_jobs=4)]: Done  42 tasks      | elapsed:    0.0s\n",
      "[Parallel(n_jobs=4)]: Done 100 out of 100 | elapsed:    0.0s finished\n",
      "[Parallel(n_jobs=-1)]: Using backend LokyBackend with 4 concurrent workers.\n",
      "[Parallel(n_jobs=-1)]: Done 100 out of 100 | elapsed:    0.9s finished\n",
      "[Parallel(n_jobs=4)]: Using backend ThreadingBackend with 4 concurrent workers.\n",
      "[Parallel(n_jobs=4)]: Done  42 tasks      | elapsed:    0.0s\n",
      "[Parallel(n_jobs=4)]: Done 100 out of 100 | elapsed:    0.0s finished\n",
      "[Parallel(n_jobs=-1)]: Using backend LokyBackend with 4 concurrent workers.\n",
      "[Parallel(n_jobs=-1)]: Done 100 out of 100 | elapsed:    1.7s finished\n",
      "[Parallel(n_jobs=4)]: Using backend ThreadingBackend with 4 concurrent workers.\n",
      "[Parallel(n_jobs=4)]: Done  42 tasks      | elapsed:    0.0s\n",
      "[Parallel(n_jobs=4)]: Done 100 out of 100 | elapsed:    0.0s finished\n",
      "[Parallel(n_jobs=-1)]: Using backend LokyBackend with 4 concurrent workers.\n",
      "[Parallel(n_jobs=-1)]: Done 100 out of 100 | elapsed:    1.6s finished\n",
      "[Parallel(n_jobs=4)]: Using backend ThreadingBackend with 4 concurrent workers.\n",
      "[Parallel(n_jobs=4)]: Done  42 tasks      | elapsed:    0.0s\n",
      "[Parallel(n_jobs=4)]: Done 100 out of 100 | elapsed:    0.0s finished\n",
      "[Parallel(n_jobs=-1)]: Using backend LokyBackend with 4 concurrent workers.\n",
      "[Parallel(n_jobs=-1)]: Done  42 tasks      | elapsed:    7.0s\n",
      "[Parallel(n_jobs=-1)]: Done 192 tasks      | elapsed:   35.4s\n",
      "[Parallel(n_jobs=-1)]: Done 442 tasks      | elapsed:  1.4min\n",
      "[Parallel(n_jobs=-1)]: Done 500 out of 500 | elapsed:  1.7min finished\n",
      "[Parallel(n_jobs=4)]: Using backend ThreadingBackend with 4 concurrent workers.\n",
      "[Parallel(n_jobs=4)]: Done  42 tasks      | elapsed:    0.0s\n",
      "[Parallel(n_jobs=4)]: Done 192 tasks      | elapsed:    0.0s\n",
      "[Parallel(n_jobs=4)]: Done 442 tasks      | elapsed:    0.2s\n",
      "[Parallel(n_jobs=4)]: Done 500 out of 500 | elapsed:    0.2s finished\n",
      "[Parallel(n_jobs=-1)]: Using backend LokyBackend with 4 concurrent workers.\n",
      "[Parallel(n_jobs=-1)]: Done  42 tasks      | elapsed:   10.6s\n",
      "[Parallel(n_jobs=-1)]: Done 192 tasks      | elapsed:   49.3s\n",
      "[Parallel(n_jobs=-1)]: Done 442 tasks      | elapsed:  1.9min\n",
      "[Parallel(n_jobs=-1)]: Done 500 out of 500 | elapsed:  2.2min finished\n",
      "[Parallel(n_jobs=4)]: Using backend ThreadingBackend with 4 concurrent workers.\n",
      "[Parallel(n_jobs=4)]: Done  42 tasks      | elapsed:    0.0s\n",
      "[Parallel(n_jobs=4)]: Done 192 tasks      | elapsed:    0.0s\n",
      "[Parallel(n_jobs=4)]: Done 442 tasks      | elapsed:    0.2s\n",
      "[Parallel(n_jobs=4)]: Done 500 out of 500 | elapsed:    0.3s finished\n",
      "[Parallel(n_jobs=-1)]: Using backend LokyBackend with 4 concurrent workers.\n",
      "[Parallel(n_jobs=-1)]: Done  42 tasks      | elapsed:   11.7s\n",
      "[Parallel(n_jobs=-1)]: Done 192 tasks      | elapsed:   52.5s\n",
      "[Parallel(n_jobs=-1)]: Done 442 tasks      | elapsed:  2.1min\n",
      "[Parallel(n_jobs=-1)]: Done 500 out of 500 | elapsed:  2.3min finished\n",
      "[Parallel(n_jobs=4)]: Using backend ThreadingBackend with 4 concurrent workers.\n",
      "[Parallel(n_jobs=4)]: Done  42 tasks      | elapsed:    0.0s\n",
      "[Parallel(n_jobs=4)]: Done 192 tasks      | elapsed:    0.1s\n",
      "[Parallel(n_jobs=4)]: Done 442 tasks      | elapsed:    0.2s\n",
      "[Parallel(n_jobs=4)]: Done 500 out of 500 | elapsed:    0.3s finished\n",
      "[Parallel(n_jobs=-1)]: Using backend LokyBackend with 4 concurrent workers.\n",
      "[Parallel(n_jobs=-1)]: Done   3 out of  10 | elapsed:    0.0s remaining:    0.1s\n",
      "[Parallel(n_jobs=-1)]: Done  10 out of  10 | elapsed:    0.1s finished\n",
      "[Parallel(n_jobs=4)]: Using backend ThreadingBackend with 4 concurrent workers.\n",
      "[Parallel(n_jobs=4)]: Done  10 out of  10 | elapsed:    0.0s finished\n",
      "[Parallel(n_jobs=-1)]: Using backend LokyBackend with 4 concurrent workers.\n",
      "[Parallel(n_jobs=-1)]: Done   3 out of  10 | elapsed:    0.0s remaining:    0.1s\n",
      "[Parallel(n_jobs=-1)]: Done  10 out of  10 | elapsed:    0.0s finished\n",
      "[Parallel(n_jobs=4)]: Using backend ThreadingBackend with 4 concurrent workers.\n",
      "[Parallel(n_jobs=4)]: Done  10 out of  10 | elapsed:    0.0s finished\n",
      "[Parallel(n_jobs=-1)]: Using backend LokyBackend with 4 concurrent workers.\n",
      "[Parallel(n_jobs=-1)]: Done   3 out of  10 | elapsed:    0.0s remaining:    0.0s\n",
      "[Parallel(n_jobs=-1)]: Done  10 out of  10 | elapsed:    0.3s finished\n",
      "[Parallel(n_jobs=4)]: Using backend ThreadingBackend with 4 concurrent workers.\n",
      "[Parallel(n_jobs=4)]: Done  10 out of  10 | elapsed:    0.0s finished\n",
      "[Parallel(n_jobs=-1)]: Using backend ThreadingBackend with 4 concurrent workers.\n",
      "[Parallel(n_jobs=-1)]: Done  10 out of  10 | elapsed:    0.1s finished\n"
     ]
    },
    {
     "data": {
      "text/plain": [
       "RandomizedSearchCV(cv='warn', error_score='raise-deprecating',\n",
       "                   estimator=RandomForestRegressor(bootstrap=True,\n",
       "                                                   criterion='mse',\n",
       "                                                   max_depth=None,\n",
       "                                                   max_features='auto',\n",
       "                                                   max_leaf_nodes=None,\n",
       "                                                   min_impurity_decrease=0.0,\n",
       "                                                   min_impurity_split=None,\n",
       "                                                   min_samples_leaf=1,\n",
       "                                                   min_samples_split=2,\n",
       "                                                   min_weight_fraction_leaf=0.0,\n",
       "                                                   n_estimators='warn',\n",
       "                                                   n_jobs=-1, oob_score=False,\n",
       "                                                   random_...\n",
       "                                        'max_features': <scipy.stats._distn_infrastructure.rv_frozen object at 0x00000272CDB758C8>,\n",
       "                                        'min_samples_leaf': <scipy.stats._distn_infrastructure.rv_frozen object at 0x00000272CDD4F988>,\n",
       "                                        'min_samples_split': <scipy.stats._distn_infrastructure.rv_frozen object at 0x00000272CDA1E188>,\n",
       "                                        'n_estimators': [10, 100, 500]},\n",
       "                   pre_dispatch='2*n_jobs', random_state=None, refit=True,\n",
       "                   return_train_score=False, scoring=None, verbose=0)"
      ]
     },
     "execution_count": 35,
     "metadata": {},
     "output_type": "execute_result"
    }
   ],
   "source": [
    "# run randomized search\n",
    "n_iter_search = 10\n",
    "# n_iter parameter of RandomizedSeacrhCV controls, how many \n",
    "# parameter combination will be tried; out of all possible given values\n",
    "\n",
    "random_search = RandomizedSearchCV(clf, param_distributions=param_dist,\n",
    "                                   n_iter=n_iter_search)\n",
    "random_search.fit(x_train, y_train)"
   ]
  },
  {
   "cell_type": "code",
   "execution_count": 36,
   "metadata": {},
   "outputs": [
    {
     "name": "stdout",
     "output_type": "stream",
     "text": [
      "1\n",
      "Model with rank: 1\n",
      "Mean validation score: 0.566 (std: 0.000)\n",
      "Parameters: {'bootstrap': True, 'criterion': 'mse', 'max_depth': None, 'max_features': 10, 'min_samples_leaf': 5, 'min_samples_split': 6, 'n_estimators': 10}\n",
      "\n",
      "2\n",
      "Model with rank: 2\n",
      "Mean validation score: 0.566 (std: 0.000)\n",
      "Parameters: {'bootstrap': True, 'criterion': 'mae', 'max_depth': None, 'max_features': 8, 'min_samples_leaf': 9, 'min_samples_split': 8, 'n_estimators': 500}\n",
      "\n",
      "3\n",
      "Model with rank: 3\n",
      "Mean validation score: 0.541 (std: 0.000)\n",
      "Parameters: {'bootstrap': False, 'criterion': 'mae', 'max_depth': None, 'max_features': 6, 'min_samples_leaf': 10, 'min_samples_split': 9, 'n_estimators': 500}\n",
      "\n"
     ]
    }
   ],
   "source": [
    "# Utility function to report best scores. This simply accepts grid scores from \n",
    "# our randomSearchCV/GridSearchCV and picks and gives top few combination according to \n",
    "# their scores\n",
    "\n",
    "def report(grid_scores, n_top=3):\n",
    "    for i in range(1,(n_top+1)):\n",
    "        print(i)\n",
    "        candidates = np.flatnonzero(grid_scores['rank_test_score']==i)\n",
    "        for candidate in candidates:\n",
    "            print(\"Model with rank: {0}\".format(i))\n",
    "            print(\"Mean validation score: {0:.3f} (std: {1:.3f})\".format(\n",
    "              grid_scores[\"mean_test_score\"][candidate],\n",
    "              np.std(grid_scores[\"std_test_score\"][candidate])))\n",
    "            print(\"Parameters: {0}\".format(grid_scores[\"params\"][candidate]))\n",
    "            print(\"\")\n",
    "    \n",
    "report(random_search.cv_results_)"
   ]
  },
  {
   "cell_type": "code",
   "execution_count": 37,
   "metadata": {},
   "outputs": [],
   "source": [
    "rf=RandomForestRegressor(n_estimators=10,criterion='mse',min_samples_split=6,\n",
    "                         bootstrap=True,max_depth=None,max_features=10,min_samples_leaf=5)"
   ]
  },
  {
   "cell_type": "code",
   "execution_count": 38,
   "metadata": {},
   "outputs": [
    {
     "data": {
      "text/plain": [
       "RandomForestRegressor(bootstrap=True, criterion='mse', max_depth=None,\n",
       "                      max_features=10, max_leaf_nodes=None,\n",
       "                      min_impurity_decrease=0.0, min_impurity_split=None,\n",
       "                      min_samples_leaf=5, min_samples_split=6,\n",
       "                      min_weight_fraction_leaf=0.0, n_estimators=10,\n",
       "                      n_jobs=None, oob_score=False, random_state=None,\n",
       "                      verbose=0, warm_start=False)"
      ]
     },
     "execution_count": 38,
     "metadata": {},
     "output_type": "execute_result"
    }
   ],
   "source": [
    "rf.fit(x_train,y_train)"
   ]
  },
  {
   "cell_type": "code",
   "execution_count": 39,
   "metadata": {},
   "outputs": [
    {
     "data": {
      "text/plain": [
       "1129.017334375588"
      ]
     },
     "execution_count": 39,
     "metadata": {},
     "output_type": "execute_result"
    }
   ],
   "source": [
    "p_test=rf.predict(x_test)\n",
    "\n",
    "residual=p_test-y_test\n",
    "\n",
    "rmse_lm=np.sqrt(np.dot(residual,residual)/len(p_test))\n",
    "\n",
    "rmse_lm"
   ]
  },
  {
   "cell_type": "code",
   "execution_count": 40,
   "metadata": {},
   "outputs": [
    {
     "data": {
      "text/plain": [
       "791.3945237379164"
      ]
     },
     "execution_count": 40,
     "metadata": {},
     "output_type": "execute_result"
    }
   ],
   "source": [
    "MAE=mean_absolute_error(y_test,p_test)\n",
    "MAE"
   ]
  },
  {
   "cell_type": "code",
   "execution_count": 41,
   "metadata": {},
   "outputs": [
    {
     "data": {
      "text/plain": [
       "0.5232563110012551"
      ]
     },
     "execution_count": 41,
     "metadata": {},
     "output_type": "execute_result"
    }
   ],
   "source": [
    "Score=1-(MAE/1660)\n",
    "Score"
   ]
  },
  {
   "cell_type": "code",
   "execution_count": 42,
   "metadata": {},
   "outputs": [
    {
     "data": {
      "text/plain": [
       "0.19616507879802725"
      ]
     },
     "execution_count": 42,
     "metadata": {},
     "output_type": "execute_result"
    }
   ],
   "source": [
    "r2_score(p_test,y_test)"
   ]
  },
  {
   "cell_type": "code",
   "execution_count": 56,
   "metadata": {},
   "outputs": [],
   "source": [
    "final=rf.predict(cd_test)"
   ]
  },
  {
   "cell_type": "code",
   "execution_count": 61,
   "metadata": {},
   "outputs": [],
   "source": [
    "dt_test=r'D:/AI & Data Science/Python/Project 3/counterfeit_test.csv'\n",
    "cd_test_1=pd.read_csv(dt_test)"
   ]
  },
  {
   "cell_type": "code",
   "execution_count": 62,
   "metadata": {},
   "outputs": [],
   "source": [
    "submission=pd.DataFrame(list(zip(cd_test_1['Medicine_ID'],list(final))),columns=['Medicine_ID','Counterfeit_Sales'])"
   ]
  },
  {
   "cell_type": "code",
   "execution_count": 64,
   "metadata": {},
   "outputs": [],
   "source": [
    "submission.to_csv('Abhilash_Singh_P3_part2.csv',index=False)"
   ]
  },
  {
   "cell_type": "code",
   "execution_count": 44,
   "metadata": {},
   "outputs": [],
   "source": [
    "import matplotlib.pyplot as plt"
   ]
  },
  {
   "cell_type": "code",
   "execution_count": 45,
   "metadata": {},
   "outputs": [
    {
     "name": "stdout",
     "output_type": "stream",
     "text": [
      "Feature ranking:\n",
      "1. feature Counterfeit_Weight (0.495495)\n",
      "2. feature Medicine_MRP (0.087158)\n",
      "3. feature SidEffect_Level (0.067156)\n",
      "4. feature Availability_rating (0.059030)\n",
      "5. feature DistID_Area010 (0.055495)\n",
      "6. feature DistID_Area013 (0.045563)\n",
      "7. feature DistID_Area017 (0.033422)\n",
      "8. feature DistID_Area018 (0.028280)\n",
      "9. feature DistID_Area019 (0.024017)\n",
      "10. feature DistID_Area027 (0.018234)\n",
      "11. feature DistID_Area035 (0.016158)\n",
      "12. feature DistID_Area045 (0.008139)\n",
      "13. feature DistID_Area046 (0.006195)\n",
      "14. feature Active_Since_1983 (0.005188)\n",
      "15. feature Active_Since_1985 (0.004896)\n",
      "16. feature Active_Since_1995 (0.004598)\n",
      "17. feature Active_Since_1996 (0.004015)\n",
      "18. feature Active_Since_1997 (0.003642)\n",
      "19. feature Active_Since_2000 (0.002939)\n",
      "20. feature Active_Since_2002 (0.002823)\n",
      "21. feature Active_Since_2005 (0.002713)\n",
      "22. feature Medicine_Type_Analgesics (0.002664)\n",
      "23. feature Medicine_Type_Antacids (0.001932)\n",
      "24. feature Medicine_Type_Antibiotics (0.001918)\n",
      "25. feature Medicine_Type_Antifungal (0.001503)\n",
      "26. feature Medicine_Type_Antimalarial (0.001477)\n",
      "27. feature Medicine_Type_Antipyretics (0.001466)\n",
      "28. feature Medicine_Type_Antiseptics (0.001405)\n",
      "29. feature Medicine_Type_Antiviral (0.001369)\n",
      "30. feature Medicine_Type_Cardiac (0.001285)\n",
      "31. feature Medicine_Type_Hreplacements (0.001259)\n",
      "32. feature Medicine_Type_Mstablizers (0.001155)\n",
      "33. feature Medicine_Type_MuscleRelaxants (0.000989)\n",
      "34. feature Medicine_Type_OralContraceptives (0.000983)\n",
      "35. feature Medicine_Type_Statins (0.000921)\n",
      "36. feature Medicine_Type_Stimulants (0.000915)\n",
      "37. feature Area_Type_CityLimits (0.000826)\n",
      "38. feature Area_Type_DownTown (0.000644)\n",
      "39. feature Area_Type_Industrial (0.000570)\n",
      "40. feature Area_City_Type_Tier 1 (0.000455)\n",
      "41. feature Area_City_Type_Tier 2 (0.000443)\n",
      "42. feature Area_dist_level_High (0.000354)\n",
      "43. feature Area_dist_level_Medium (0.000284)\n",
      "44. feature Area_dist_level_Small (0.000028)\n"
     ]
    },
    {
     "data": {
      "image/png": "[encoded data removed]",
      "text/plain": [
       "<Figure size 432x288 with 1 Axes>"
      ]
     },
     "metadata": {
      "needs_background": "light"
     },
     "output_type": "display_data"
    }
   ],
   "source": [
    "importances = rf.feature_importances_\n",
    "std = np.std([tree.feature_importances_ for tree in rf.estimators_],\n",
    "             axis=0)\n",
    "indices = np.argsort(importances)[::-1]\n",
    "\n",
    "# Print the feature ranking\n",
    "print(\"Feature ranking:\")\n",
    "\n",
    "for f in range(x_train.shape[1]):\n",
    "    print(\"%d. feature %s (%f)\" % (f + 1, list(x_train.columns)[f], importances[indices[f]]))\n",
    "\n",
    "# Plot the feature importances of the forest\n",
    "plt.figure()\n",
    "plt.title(\"Feature importances\")\n",
    "plt.bar(range(x_train.shape[1]), importances[indices],\n",
    "       color=\"r\", yerr=std[indices], align=\"center\")\n",
    "plt.xticks(range(x_train.shape[1]), list(x_train.columns))\n",
    "plt.xlim([-1, x_train.shape[1]])\n",
    "plt.show()"
   ]
  }
 ],
 "metadata": {
  "kernelspec": {
   "display_name": "Python 3",
   "language": "python",
   "name": "python3"
  },
  "language_info": {
   "codemirror_mode": {
    "name": "ipython",
    "version": 3
   },
   "file_extension": ".py",
   "mimetype": "text/x-python",
   "name": "python",
   "nbconvert_exporter": "python",
   "pygments_lexer": "ipython3",
   "version": "3.7.4"
  }
 },
 "nbformat": 4,
 "nbformat_minor": 2
}
